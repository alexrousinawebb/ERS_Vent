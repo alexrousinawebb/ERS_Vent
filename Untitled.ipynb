{
 "cells": [
  {
   "cell_type": "code",
   "execution_count": null,
   "metadata": {},
   "outputs": [],
   "source": [
    "from scipy.optimize import *\n",
    "from scipy.integrate import *\n",
    "from numpy import *\n",
    "from simple_pid import PID\n",
    "import matplotlib.pyplot as plt"
   ]
  },
  {
   "cell_type": "code",
   "execution_count": null,
   "metadata": {},
   "outputs": [],
   "source": [
    "class conversion\n",
    "    \"\"\"Conversions between various imperial and metric units.\n",
    "    \n",
    "    Attributes:\n",
    "        Temperature: The average system temperature in the vessel.\n",
    "    \"\"\"\n",
    "    \n",
    "    def __init__(self, Temperature):\n",
    "        self.T = Temperature\n",
    "    \n",
    "    def C2K(self): # Celcius to kelvin conversion function\n",
    "    \n",
    "    return self.T + 273.15\n",
    "\n",
    "class physprops\n",
    "    \"\"\"Physical properties of reaction mass.\n",
    "\n",
    "    Attributes:\n",
    "        Temperature: The average system temperature in the vessel.\n",
    "    \"\"\"\n",
    "    \n",
    "    def __init__(self, Temperature):\n",
    "        self.T = Temperature\n",
    "        \n",
    "    def surface_tension(self):\n",
    "    \n",
    "        B = 235.8E-3\n",
    "        b = -0.625\n",
    "        u = 1.256\n",
    "        Tc = 647.15\n",
    "    \n",
    "        return B*(((Tc - C2K(T))/Tc)**u)*(1 + b*(Tc - C2K(T))/Tc) # returned as (N/m)"
   ]
  }
 ],
 "metadata": {
  "kernelspec": {
   "display_name": "Python 3",
   "language": "python",
   "name": "python3"
  },
  "language_info": {
   "codemirror_mode": {
    "name": "ipython",
    "version": 3
   },
   "file_extension": ".py",
   "mimetype": "text/x-python",
   "name": "python",
   "nbconvert_exporter": "python",
   "pygments_lexer": "ipython3",
   "version": "3.6.6"
  }
 },
 "nbformat": 4,
 "nbformat_minor": 2
}
