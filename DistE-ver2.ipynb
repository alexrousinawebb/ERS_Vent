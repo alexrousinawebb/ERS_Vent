{
 "cells": [
  {
   "cell_type": "markdown",
   "metadata": {},
   "source": [
    "# Import Packages"
   ]
  },
  {
   "cell_type": "code",
   "execution_count": 1,
   "metadata": {},
   "outputs": [],
   "source": [
    "from scipy.optimize import *\n",
    "from scipy.integrate import *\n",
    "from numpy import *\n",
    "from simple_pid import PID\n",
    "import matplotlib.pyplot as plt"
   ]
  },
  {
   "cell_type": "markdown",
   "metadata": {},
   "source": [
    "# Unit Conversions"
   ]
  },
  {
   "cell_type": "code",
   "execution_count": 2,
   "metadata": {},
   "outputs": [],
   "source": [
    "def gal2L(L):\n",
    "    \n",
    "    return L*3.78541 # gallon to litre conversion\n",
    "\n",
    "def C2K(T): # Celcius to kelvin conversion function\n",
    "    \n",
    "    return T + 273.15"
   ]
  },
  {
   "cell_type": "markdown",
   "metadata": {},
   "source": [
    "# Parameters\n",
    "## Input Parameters for Vessel"
   ]
  },
  {
   "cell_type": "code",
   "execution_count": 3,
   "metadata": {},
   "outputs": [],
   "source": [
    "XH2O2 = 0.3 # Starting hydrogen peroxide strength (%w/w)\n",
    "\n",
    "mR = 304 # Starting reactor charge (kg)\n",
    "\n",
    "T0 = 25 # Initial temperature (C)\n",
    "\n",
    "R = 8.3145 # Ideal gas constant (L*kPa/mol*K)\n",
    "\n",
    "MH2O = 18.01528 # Molecular weight water (g/mol)\n",
    "MH2O2 = 34.0147 # Molecular weight hydrogen peroxide (g/mol)\n",
    "MO2 = 31.998 # Molecular weight oxygen (g/mol)\n",
    "\n",
    "P0 = 101.325 # Initial pressure in headspace (kPa)"
   ]
  },
  {
   "cell_type": "markdown",
   "metadata": {},
   "source": [
    "## Reactor Parameters and Geometry"
   ]
  },
  {
   "cell_type": "code",
   "execution_count": 4,
   "metadata": {},
   "outputs": [],
   "source": [
    "VR = gal2L(100) # Reactor volume (gal)\n",
    "\n",
    "Urx = 450 # Reactor heat treansfer coefficient (J/(s*m**2*K))\n",
    "\n",
    "AR = 1.5 # Reactor aspect ratio (h/D)\n",
    "\n",
    "Dv = 2*((VR*0.001)/(2*math.pi*AR))**(1/3) # Vessel diameter (m)\n",
    "\n",
    "hv = Dv*AR # Vessel height (m)"
   ]
  },
  {
   "cell_type": "code",
   "execution_count": 5,
   "metadata": {},
   "outputs": [],
   "source": [
    "def Awet(VL, Dv): # Calculated heat transfer area for reactor with volume fill VL (L)\n",
    "    \n",
    "    hwet = (VL*0.001)/(math.pi*(Dv/2)**2) # Wetted height on reactor wall (m)\n",
    "    \n",
    "    return math.pi*(Dv/2)**2 + 2*math.pi*(Dv/2)*hwet # Returned as m**2"
   ]
  },
  {
   "cell_type": "markdown",
   "metadata": {},
   "source": [
    "## Reaction Kinetics"
   ]
  },
  {
   "cell_type": "code",
   "execution_count": 6,
   "metadata": {},
   "outputs": [],
   "source": [
    "dHrxnL = -98300/MH2O2 # Heat of reaction for hydrogen peroxide decomposition in liquid phase (J/g)\n",
    "\n",
    "kf = 3000 # Contamination coefficient\n",
    "\n",
    "def krxn(T, kf):\n",
    "    \n",
    "    Aarhn = 135000 # Arrhenius coefficient/Pre-exponential factor (1/s)\n",
    "\n",
    "    Ea = 10357 # Activation energy (J/mol)\n",
    "    \n",
    "    return Aarhn*kf*exp(-Ea/C2K(T))"
   ]
  },
  {
   "cell_type": "markdown",
   "metadata": {},
   "source": [
    "## Reactor Vent System Parameters"
   ]
  },
  {
   "cell_type": "code",
   "execution_count": 7,
   "metadata": {},
   "outputs": [],
   "source": [
    "D_RD = 12 # (in)\n",
    "\n",
    "D_BPR = 0.5 # (in)\n",
    "\n",
    "Cv_BPR_max = 5.5\n",
    "\n",
    "Kd_RD = 0.67\n",
    "\n",
    "P_RD = 1000 # (kPa)\n",
    "\n",
    "P_BPR = 200 # (kPa)\n",
    "\n",
    "P_discharge = 101.325 # (kPa)\n",
    "\n",
    "def A_relief(D): # Input D in (in)\n",
    "    \n",
    "    return math.pi*((D*0.0254)**2)/4 # (m**2)"
   ]
  },
  {
   "cell_type": "markdown",
   "metadata": {},
   "source": [
    "## Critical Flow Pressure"
   ]
  },
  {
   "cell_type": "code",
   "execution_count": 8,
   "metadata": {},
   "outputs": [],
   "source": [
    "def k_ratio(T, yH2O, yH2O2, yO2):\n",
    "    \n",
    "    R = 8.3145 # Ideal gas constant (J/mol*K)\n",
    "    \n",
    "    MH2O = 18.01528 # Molecular weight water (g/mol)\n",
    "    MH2O2 = 34.0147 # Molecular weight hydrogen peroxide (g/mol)\n",
    "    MO2 = 31.998 # Molecular weight oxygen (g/mol)\n",
    "    \n",
    "    [CpH2OG, CpH2O2G, CpO2G] = CpGas(T)\n",
    "    \n",
    "    CpG = yH2O*CpH2OG*MH2O + yH2O2*CpH2O2G*MH2O2 + yO2*CpO2G*MO2 # Average vapour constant pressure heat capacity (J/(mol*K))\n",
    "    \n",
    "    CvG = CpG - R\n",
    "    \n",
    "    return CpG/CvG\n",
    "\n",
    "def P_crit(P, T, yH2O, yH2O2, yO2):\n",
    "    \n",
    "    k = k_ratio(T, yH2O, yH2O2, yO2)\n",
    "    \n",
    "    return (2/(k+1))**(k/(k-1))*P # (kPa)"
   ]
  },
  {
   "cell_type": "markdown",
   "metadata": {},
   "source": [
    "## Determine venting flow regime"
   ]
  },
  {
   "cell_type": "code",
   "execution_count": 9,
   "metadata": {},
   "outputs": [],
   "source": [
    "def voidfrac(z, jgx, Ux, flag):\n",
    "    \n",
    "    C0 = 1.5\n",
    "    \n",
    "    F = empty(1)\n",
    "    if flag == 1: # churn-turbulent\n",
    "        F[0] = ((z[0]*((1 - z[0])**2))/((1 - z[0]**3)*(1 - C0*z[0]))) - (jgx/Ux)\n",
    "    else: # bubbly\n",
    "        F[0] = ((jgx/Ux)/(2 + C0*(jgx/Ux))) - z[0]\n",
    "    \n",
    "    return F\n",
    "    \n",
    "def two_phase(T, P_discharge, D_RD, Dv, Kd_RD, data, flag):\n",
    "    \n",
    "    [xH2O, xH2O2, xO2, yH2O, yH2O2, yO2, nL, nG, P, PH2O, PH2O2, PO2, VL, VG, ZO2] = data\n",
    "    \n",
    "    MH2O = 18.01528 # Molecular weight water (g/mol)\n",
    "    MH2O2 = 34.0147 # Molecular weight hydrogen peroxide (g/mol)\n",
    "    MO2 = 31.998 # Molecular weight oxygen (g/mol)\n",
    "    \n",
    "    R = 8.3145 # Ideal gas constant (J/mol*K)\n",
    "    g = 9.81 # acceleration due to gracity (m/s**2)\n",
    "    \n",
    "    ntotal = nL + nG\n",
    "    \n",
    "    sigma = surface_tension(T) # (N/m)\n",
    "    \n",
    "    [CpH2OG, CpH2O2G, CpO2G] = CpGas(T)\n",
    "    \n",
    "    CpG = yH2O*CpH2OG*MH2O + yH2O2*CpH2O2G*MH2O2 + yO2*CpO2G*MO2 # Average vapour constant pressure heat capacity (J/(mol*K))\n",
    "    \n",
    "    CvG = CpG - R\n",
    "    \n",
    "    Mw = yH2O*MH2O + yH2O2*MH2O2 + yO2*MO2 # (g/mol)\n",
    "    \n",
    "    Z = compress(P, T, 'H2O')*yH2O + compress(P, T, 'H2O2')*yH2O2 + compress(P, T, 'O2')*yO2\n",
    "    \n",
    "    [pH2O, pH2O2] = densityL(T) # Liquid density (kg/L)\n",
    "    \n",
    "    pG = (1/(R*C2K(T)*1000))*(PH2O*MH2O + PH2O2*MH2O2 + PO2*MO2) # Average vapour density (kg/L)\n",
    "    \n",
    "    pL = pH2O*xH2O + pH2O2*xH2O2 # Average liquid density (kg/L)\n",
    "    \n",
    "    k = k_ratio(T, yH2O, yH2O2, yO2)\n",
    "    \n",
    "    if P_discharge > P_crit(P_discharge, T, yH2O, yH2O2, yO2):\n",
    "        r = P_discharge/P\n",
    "    \n",
    "        F2 = sqrt((k/(k - 1))*(r**(2/k))*((1 - r**((k - 1)/k))/(1 - r)))\n",
    "    \n",
    "        W_vap = (F2*Kd_RD/17.9)*sqrt((Mw*P*(P - P_discharge))/(Z*C2K(T)))*(1000000/3600) # (kg/(m**2*s))\n",
    "    else:\n",
    "        C = 520*sqrt(k*((2/(k + 1))**((k + 1)/(k - 1))))\n",
    "  \n",
    "        W_vap = ((C*P*Kd_RD/13160)*sqrt(Mw/(C2K(T)*Z)))*(1000000/3600)\n",
    "    \n",
    "    jgx = (A_relief(D_RD)*W_vap)/(pG*A_relief(Dv*39.3701)*1000)\n",
    "    \n",
    "    if flag == 1: # churn turbulent\n",
    "        Ux_factor = 1.53 \n",
    "    else: # bubbly\n",
    "        Ux_factor = 1.18 \n",
    "    \n",
    "    Ux = Ux_factor*(sigma*g*1000*(pL - pG))**(1/4)/sqrt(1000*pL) # Churn-turbulent regime\n",
    "    \n",
    "    alpha = fsolve(voidfrac, 0.8, args=(jgx, Ux, flag))\n",
    "  \n",
    "    alphaves = (VR - VL)/VR\n",
    "    \n",
    "    if alpha <= alphaves:\n",
    "        TF = 0\n",
    "        Xm = empty(1)\n",
    "        jgi = empty(1)\n",
    "    else:\n",
    "        TF = 1\n",
    "        \n",
    "        C0 = 1.5\n",
    "        \n",
    "        if flag == 1: # churn turbulent\n",
    "            jgi = 2*alphaves*Ux/(1 - C0*alphaves)\n",
    "            a_m = 2*alphaves/(1 + C0*alphaves)\n",
    "        else: # bubbly\n",
    "            jgi = alphaves*(1 - alphaves)**2*Ux/((1 - alphaves**3)*(1 - C0*alphaves))\n",
    "            a_m = alphaves\n",
    "        \n",
    "        Xm = a_m*pG/(a_m*pG + (1 - a_m)*pL)\n",
    "        \n",
    "    n_vent = W_vap*A_relief(D_RD)*1000/Mw\n",
    "        \n",
    "    return [TF, n_vent, jgi, Xm]"
   ]
  },
  {
   "cell_type": "markdown",
   "metadata": {},
   "source": [
    "## Coupling Equations for Two-Phase Vent Flow"
   ]
  },
  {
   "cell_type": "code",
   "execution_count": 10,
   "metadata": {},
   "outputs": [],
   "source": [
    "# def coupling(z, vL, F_ig, v_ig, n, k_ig, F_vg, v_vg, k_vg, P, jgi, pG, Dv, Xm, D_RD):\n",
    "def coupling(z, X, vL, vG, k, P, dHvap, CpL, T):\n",
    "    \n",
    "    vt = (1 - X)*vL + X*vG*z[0]**(-1/k)\n",
    "    \n",
    "    F = empty(1)\n",
    "    F[0] = (2*P/vt**2)*((1 - X)*vL*(1 - z[0]) + X*vG*(k/(k-1))*(1 - z[0]**((k-1)/k))) - 1/((X*vG/(k*P)) + ((vG - vL)*dHvap)**2*CpL*C2K(T))\n",
    "    \n",
    "    return F\n",
    "\n",
    "def flow_twophase(T, P_discharge, D_RD, Kd_RD, VR, jgi, Xm, data, flag):\n",
    "    \n",
    "    [xH2O, xH2O2, xO2, yH2O, yH2O2, yO2, nL, nG, P, PH2O, PH2O2, PO2, VL, VG, ZO2] = data\n",
    "    \n",
    "    MH2O = 18.01528 # Molecular weight water (g/mol)\n",
    "    MH2O2 = 34.0147 # Molecular weight hydrogen peroxide (g/mol)\n",
    "    MO2 = 31.998 # Molecular weight oxygen (g/mol)\n",
    "    \n",
    "    R = 8.3145 # Ideal gas constant (J/mol*K)\n",
    "    g = 9.81 # acceleration due to gracity (m/s**2)\n",
    "    \n",
    "    [pH2O, pH2O2] = densityL(T) # Liquid density (kg/L)\n",
    "    \n",
    "    [CpH2OG, CpH2O2G, CpO2G] = CpGas(T) # Individual component heat capacities\n",
    "    \n",
    "    [CpH2OL, CpH2O2L] = CpLiq(T) # Liquid constant pressure heat capacities (J/(g*K))\n",
    "    \n",
    "    CpL = xH2O*CpH2OL + xH2O2*CpH2O2L # Average liquid constant pressure heat capacity (J/(g*K))\n",
    "    \n",
    "    dHvap = enthvap(T)\n",
    "    \n",
    "    ntotal = nL + nG\n",
    "    \n",
    "    Mw = (yH2O*MH2O + yH2O2*MH2O2 + yO2*MO2)*(nG/ntotal) + (xH2O*MH2O + xH2O2*MH2O2)*(nL/ntotal) # Average molecular weight of total vessel contents\n",
    "    \n",
    "    vL = 1/(pH2O*xH2O + pH2O2*xH2O2) # Average liquid specific volume (L/kg)\n",
    "    vG = (R*C2K(T)*1000)/(PH2O*MH2O + PH2O2*MH2O2 + PO2*MO2) # Average vapour specific volume (L/kg)\n",
    "    \n",
    "    pL = 1/vL\n",
    "    pG = 1/vG\n",
    "    \n",
    "    k = k_ratio(T, yH2O, yH2O2, yO2)\n",
    "\n",
    "    F_ig = nG*yO2*MO2/(ntotal*Mw)\n",
    "    F_vg = nG*(yH2O*MH2O + yH2O2*MH2O2)/(ntotal*Mw)\n",
    "    \n",
    "    X = F_ig + F_vg\n",
    "    \n",
    "    n = P_discharge/P\n",
    "    \n",
    "    n_test = fsolve(coupling, n, args=(X, vL, vG, k, P, dHvap, CpL, T))\n",
    "    \n",
    "    alpha = (VR - VL)/VR\n",
    "    \n",
    "#     if n > n_test:\n",
    "#         G_twophase = ((X*vG/(k*P*(1000*1000))) + ((vG - vL)/dHvap)**2*CpL*1000*C2K(T))**(-1/2)\n",
    "#     else:\n",
    "    vt = (1 - X)*vL + X*vG*n**(-1/k)\n",
    "    G_twophase = sqrt((2*P*1000*1000/vt**2)*((1 - X)*vL*(1 - n)/1000 + X*vG*(k/(k-1))*(1 - n**((k-1)/k))/1000))\n",
    "    \n",
    "    xe = (jgi*pG*A_relief(Dv*39.3701) + Xm*(A_relief(D_RD)*G_twophase - jgi*pG*A_relief(Dv*39.3701)))/(A_relief(D_RD)*G_twophase)\n",
    "    \n",
    "    n_vent = G_twophase*Kd_RD*A_relief(D_RD)*1000/Mw\n",
    "    \n",
    "    return [n_vent, xe]"
   ]
  },
  {
   "cell_type": "markdown",
   "metadata": {},
   "source": [
    "## Calculate BPR Vent Flow"
   ]
  },
  {
   "cell_type": "code",
   "execution_count": 11,
   "metadata": {},
   "outputs": [],
   "source": [
    "def ventflow(T, P, P_discharge, yH2O, yH2O2, yO2, Cv_BPR, D_BPR, flag):\n",
    "    \n",
    "    k = k_ratio(T, yH2O, yH2O2, yO2)\n",
    "    \n",
    "    Mw = yH2O*MH2O + yH2O2*MH2O2 + yO2*MO2\n",
    "    \n",
    "    Z = compress(P, T, 'H2O')*yH2O + compress(P, T, 'H2O2')*yH2O2 + compress(P, T, 'O2')*yO2\n",
    "    \n",
    "    Kd = Cv_BPR/(27.66*A_relief(D_BPR)*1550)\n",
    "    \n",
    "    if flag == 1:\n",
    "        \n",
    "        C = 520*sqrt(k*((2/(k+1))**((k+1)/(k-1))))\n",
    "        \n",
    "        W = ((A_relief(D_BPR)*1000000*C*Kd*P/13160)*sqrt(Mw/(C2K(T)*Z))*1000/3600)/Mw # (mol/s)\n",
    "        \n",
    "    else:\n",
    "        \n",
    "        r = P/P_discharge\n",
    "        \n",
    "        F2 = sqrt((k/(k-1))*r**(2/k)*((1-r**((k-1)/k))/(1-r)))\n",
    "        \n",
    "        W = (((A_relief(D_BPR)*1000000*F2*Kd/17.9)*sqrt(Mw*P*(P - P_discharge)/(Z*C2K(T))))*1000/3600)/Mw # (mol/s)\n",
    "        \n",
    "    return W"
   ]
  },
  {
   "cell_type": "markdown",
   "metadata": {},
   "source": [
    "## Liquid Surface Tension Function"
   ]
  },
  {
   "cell_type": "code",
   "execution_count": 12,
   "metadata": {},
   "outputs": [],
   "source": [
    "def surface_tension(T):\n",
    "    \n",
    "    B = 235.8E-3\n",
    "    b = -0.625\n",
    "    u = 1.256\n",
    "    Tc = 647.15\n",
    "    \n",
    "    return B*(((Tc - C2K(T))/Tc)**u)*(1 + b*(Tc - C2K(T))/Tc) # returned as (N/m)"
   ]
  },
  {
   "cell_type": "markdown",
   "metadata": {},
   "source": [
    "## Liquid Density Function"
   ]
  },
  {
   "cell_type": "code",
   "execution_count": 13,
   "metadata": {},
   "outputs": [],
   "source": [
    "def densityL(T):\n",
    "    \n",
    "    A = 999.83952\n",
    "    B = 16.945176\n",
    "    C = -7.987040e-3\n",
    "    D = -46.170461e-6\n",
    "    E = 105.56302e-9\n",
    "    F = -280.54253e-12\n",
    "    G = 16.897850e-3\n",
    "    \n",
    "    Jb = 0.39763\n",
    "    Jc = 0.02206\n",
    "    Jd = 0.05187\n",
    "    Kb = -2.8732E-3\n",
    "    Kc = 3.5357E-3\n",
    "    Kd = -1.9414E-3\n",
    "    Lb = 3.2488E-5\n",
    "    Lc = -6.0947E-5\n",
    "    Ld = 3.9061E-5\n",
    "    Mb = -1.6363E-7\n",
    "    Mc = 3.6165E-7\n",
    "    Md = -2.5500E-7\n",
    "    \n",
    "    pH2O = ((A + B*T + C*T**2 + D*T**3 + E*T**4 + F*T**5)/(1 + G*T))/1000\n",
    "    \n",
    "    N = Jb + Kb*T + Lb*(T**2) + Mb*(T**3)\n",
    "    O = Jc + Kc*T + Lc*(T**2) + Mc*(T**3)\n",
    "    P = Jd + Kd*T + Ld*(T**2) + Md*(T**3)\n",
    "    \n",
    "    if T >= 100:\n",
    "        pH2O2 = 1.2456174226244978\n",
    "    else:\n",
    "        pH2O2 = pH2O + N + O**2 + P**3\n",
    "    \n",
    "    return [pH2O, pH2O2] # returned as kg/L"
   ]
  },
  {
   "cell_type": "markdown",
   "metadata": {},
   "source": [
    "## Antoine Equation for Saturation Pressures"
   ]
  },
  {
   "cell_type": "code",
   "execution_count": 14,
   "metadata": {},
   "outputs": [],
   "source": [
    "def antoine(T):\n",
    "\n",
    "    if T > 99:\n",
    "        A = 8.14019\n",
    "        B = 1810.94\n",
    "        C = 244.485\n",
    "    else:\n",
    "        A = 8.07131\n",
    "        B = 1730.63\n",
    "        C = 233.426\n",
    "      \n",
    "    PH2Osat = (10**(A-(B/(C+T)))) * (101.325/760)\n",
    "      \n",
    "    D = 7.96917\n",
    "    E = 1886.76\n",
    "    F = 220.6\n",
    "      \n",
    "    PH2O2sat = (10**(D-(E/(F+T)))) * (101.325/760)\n",
    "    \n",
    "    return [PH2Osat, PH2O2sat] # returned as kPa"
   ]
  },
  {
   "cell_type": "markdown",
   "metadata": {},
   "source": [
    "## Enthalpy of Vaporization"
   ]
  },
  {
   "cell_type": "code",
   "execution_count": 15,
   "metadata": {},
   "outputs": [],
   "source": [
    "def enthvap(T):\n",
    "    \n",
    "    A = -3e-5\n",
    "    B = 0.0051\n",
    "    C = -2.75588\n",
    "    D = 2500.2\n",
    "    \n",
    "    return A*T**3 + B*T**2 + C*T + D # returned in (J/g)"
   ]
  },
  {
   "cell_type": "markdown",
   "metadata": {},
   "source": [
    "## Heat Capacities"
   ]
  },
  {
   "cell_type": "code",
   "execution_count": 16,
   "metadata": {},
   "outputs": [],
   "source": [
    "def CpLiq(T):\n",
    "    \n",
    "    MH2O = 18.01528 # Molecular weight water (g/mol)\n",
    "\n",
    "    A = -203.606\n",
    "    B = 1523.290\n",
    "    C = -3196.413\n",
    "    D = 2474.455\n",
    "    E = 3.855326\n",
    "    Tref = C2K(T)/1000\n",
    "    \n",
    "    CpH2OL = (A + B*Tref + C*Tref**2 + D*Tref**3 + E/Tref**2)/MH2O\n",
    "    \n",
    "    F = 0.657\n",
    "    G = 2.11e-4\n",
    "    \n",
    "    CpH2O2L = (F + G*T)*4.184\n",
    "    \n",
    "    return [CpH2OL, CpH2O2L] # Returned as J/(g*K)\n",
    "\n",
    "def CpGas(T):\n",
    "    \n",
    "    MH2O = 18.01528 # Molecular weight water (g/mol)\n",
    "    MH2O2 = 34.0147 # Molecular weight hydrogen peroxide (g/mol)\n",
    "    MO2 = 31.998 # Molecular weight oxygen (g/mol)\n",
    "    \n",
    "    A = 30.09200\n",
    "    B = 6.832514\n",
    "    C = 6.793435\n",
    "    D = -2.534480\n",
    "    E = 0.082139\n",
    "    Tref = C2K(T)/1000\n",
    "    \n",
    "    CpH2OG = (A + B*Tref + C*Tref**2 + D*Tref**3 + E/Tref**2)/MH2O\n",
    "    \n",
    "    F = 34.25667\n",
    "    G = 55.18445\n",
    "    H = -35.15443\n",
    "    I = 9.087440\n",
    "    J = -0.422157\n",
    "    \n",
    "    CpH2O2G = (F + G*Tref + H*Tref**2 + I*Tref**3 + J/Tref**2)/MH2O2\n",
    "    \n",
    "    K = 31.32234\n",
    "    L = -20.23531\n",
    "    M = 57.86644\n",
    "    N = -36.50624\n",
    "    O = -0.007374\n",
    "    \n",
    "    CpO2G = (K + L*Tref + M*Tref**2 + N*Tref**3 + O/Tref**2)/MO2;\n",
    "    \n",
    "    return [CpH2OG, CpH2O2G, CpO2G] # Returned as J/(g*K)"
   ]
  },
  {
   "cell_type": "markdown",
   "metadata": {},
   "source": [
    "## Partial Derivatives (RK-EOS)"
   ]
  },
  {
   "cell_type": "code",
   "execution_count": 17,
   "metadata": {},
   "outputs": [],
   "source": [
    "def dvGdT(PH2O, PH2O2, PO2, T):\n",
    "    \n",
    "    R = 8.3145 # Ideal gas constant (L*kPa/mol*K)\n",
    "\n",
    "    MH2O = 18.01528 # Molecular weight water (g/mol)\n",
    "    MH2O2 = 34.0147 # Molecular weight hydrogen peroxide (g/mol)\n",
    "    MO2 = 31.998 # Molecular weight oxygen (g/mol)\n",
    "    \n",
    "    return R*((1/(compress(PH2O, T, 'H2O')*MH2O*PH2O))+(1/(compress(PH2O2, T, 'H2O2')*MH2O2*PH2O2))+(1/(compress(PO2, T, 'O2')*MO2*PO2))) # This is not exactly correct Z and P also f(P)\n",
    "    \n",
    "def dvLdT(T):\n",
    "    \n",
    "    A = 999.83952\n",
    "    B = 16.945176\n",
    "    C = -7.987040e-3\n",
    "    D = -46.170461e-6\n",
    "    E = 105.56302e-9\n",
    "    F = -280.54253e-12\n",
    "    G = 16.897850e-3\n",
    "    \n",
    "    return -G*(A + B*T + C*T**2 + D*T**3 + E*T**4 + F*T**5)/(1000*(G*T + 1)**2) + (B + 2*C*T + 3*D*T**2 + 4*E*T**3 + 5*F*T**4)/(1000*(G*T + 1))"
   ]
  },
  {
   "cell_type": "markdown",
   "metadata": {},
   "source": [
    "## Calculate Temperature Dependent Parameters"
   ]
  },
  {
   "cell_type": "code",
   "execution_count": 18,
   "metadata": {},
   "outputs": [],
   "source": [
    "[pH2O, pH2O2] = densityL(T0)\n",
    "[PH2Osat,PH2O2sat] = antoine(T0)"
   ]
  },
  {
   "cell_type": "markdown",
   "metadata": {},
   "source": [
    "# VLE Package\n",
    "## Derived Initial Reactor Parameters"
   ]
  },
  {
   "cell_type": "code",
   "execution_count": 19,
   "metadata": {},
   "outputs": [],
   "source": [
    "mH2O2 = mR*XH2O2 # Initial Mass hydrogen peroxide (kg)\n",
    "mH2O = mR*(1 - XH2O2) # Initial Mass water (kg)\n",
    "\n",
    "nH2O2 = mH2O2*1000/MH2O2 # Initial amount hydrogen peroxide (mol)\n",
    "nH2O = mH2O*1000/MH2O # Initial amount water (mol)\n",
    "\n",
    "VG0 = VR - mH2O/pH2O - mH2O2/pH2O2 # Initial headspace volume guess (L)\n",
    "\n",
    "nO2 = P0*VG0/(R*C2K(T0)) # Initial amount oxygen (mol)\n",
    "\n",
    "ntotal = nH2O + nH2O2 + nO2 # Total moles in vessel (mol)\n",
    "\n",
    "zH2O = nH2O/ntotal # Total initial mole fraction water in vessel\n",
    "zH2O2 = nH2O2/ntotal # Total initial mole fraction hydrogen peroxide in vessel\n",
    "zO2 = nO2/ntotal # Total initial mole fraction oxygen in vessel"
   ]
  },
  {
   "cell_type": "markdown",
   "metadata": {},
   "source": [
    "## Reduced Pressure and Temperature"
   ]
  },
  {
   "cell_type": "code",
   "execution_count": 20,
   "metadata": {},
   "outputs": [],
   "source": [
    "def Tred(T, flag):\n",
    "    \n",
    "    TcO2 = 154.6\n",
    "    TcH2O = 647.096\n",
    "    TcH2O2 = 728\n",
    "    \n",
    "    if flag == 'O2':\n",
    "        Tr = C2K(T)/TcO2\n",
    "    elif flag == 'H2O':\n",
    "        Tr = C2K(T)/TcH2O\n",
    "    elif flag == 'H2O2':\n",
    "        Tr = C2K(T)/TcH2O2\n",
    "    \n",
    "    return Tr # (K)\n",
    "\n",
    "def Pred(P, flag):\n",
    "    \n",
    "    PcO2 = 5050\n",
    "    PcH2O = 22060\n",
    "    PcH2O2 = 22000\n",
    "\n",
    "    if flag == 'O2':\n",
    "        Pr = P/PcO2\n",
    "    elif flag == 'H2O':\n",
    "        Pr = P/PcH2O\n",
    "    elif flag == 'H2O2':\n",
    "        Pr = P/PcH2O2\n",
    "    \n",
    "    return Pr"
   ]
  },
  {
   "cell_type": "markdown",
   "metadata": {},
   "source": [
    "## Activity Coefficients"
   ]
  },
  {
   "cell_type": "code",
   "execution_count": 21,
   "metadata": {},
   "outputs": [],
   "source": [
    "def activity(T, xH2O):\n",
    "    \n",
    "    R = 8.3145 # Ideal gas constant (L*kPa/mol*K)\n",
    "    \n",
    "    Ca0 = -999.883\n",
    "    Ca1 = -2499.584\n",
    "    Ca2 = 8.261924\n",
    "    Ca3 = 327.4487\n",
    "    P10 = 17418.34\n",
    "    P11 = -109.9125\n",
    "    P12 = 0.1663847\n",
    "    P20 = -6110.401\n",
    "    P21 = 28.08669\n",
    "    P22 = -0.03587408\n",
    "    Ca01 = 126.7385\n",
    "    Ca11 = -2558.776\n",
    "    Ca21 = 12.33364\n",
    "    Ca31 = 343.105\n",
    "    Ca02 = 63.18354\n",
    "    Ca12 = -149.9278\n",
    "    Ca22 = 0.4745954\n",
    "    Ca32 = 348.1642\n",
    "    Ca03 = 59.42228\n",
    "    Ca13 = -199.2644\n",
    "    Ca23 = 0.8321514\n",
    "    Ca33 = 346.2121\n",
    "    \n",
    "    if C2K(T) > 0 and C2K(T) <= 317.636:    \n",
    "        Ba = Ca0 + ((Ca1*Ca2)/(math.pi*(Ca2**2 + (C2K(T) - Ca3)**2)))\n",
    "        \n",
    "    if C2K(T) > 317.636 and C2K(T) <= 348.222:\n",
    "        Ba = ((Ca0 + ((Ca1*Ca2)/(math.pi*(Ca2**2 + ((C2K(T) - Ca3)**2))))) + (P12*C2K(T)**2 + P11*C2K(T) + P10))/2\n",
    "        \n",
    "    elif C2K(T) > 348.222 and C2K(T) <= 391.463:\n",
    "        Ba = P22*C2K(T)**2 + P21*C2K(T) + P20\n",
    "        \n",
    "    else:\n",
    "        Ba = -612.9613\n",
    "    \n",
    "    Bb = Ca01 + ((Ca11*Ca21)/(math.pi*(Ca21**2 + ((C2K(T) - Ca31)**2))))\n",
    "    \n",
    "    Bc = Ca02 + (Ca12/(1 + exp(Ca22*(C2K(T) - Ca32))))\n",
    "    \n",
    "    Bd = Ca03 + (Ca13/(1 + exp(Ca23*(C2K(T) - Ca33))))\n",
    "    \n",
    "    yH2O2 = exp((xH2O**2/(R*C2K(T)))*(Ba + Bb*(3 - 4*xH2O) + Bc*(1 - 2*xH2O)*(5 - 6*xH2O) + Bd*((1 - 2*xH2O)**2)*(7 - 8*xH2O)))\n",
    "      \n",
    "    yH2O = exp(((1 - xH2O**2)/(R*C2K(T)))*(Ba + Bb*(1 - 4*xH2O) + Bc*(1 - 2*xH2O)*(1 - 6*xH2O) + Bd*((1 - 2*xH2O)**2)*(1 - 8*xH2O)))\n",
    "    \n",
    "    return [yH2O, yH2O2]"
   ]
  },
  {
   "cell_type": "markdown",
   "metadata": {},
   "source": [
    "## VLE Condition Solvers (RK-EOS)"
   ]
  },
  {
   "cell_type": "code",
   "execution_count": 22,
   "metadata": {},
   "outputs": [],
   "source": [
    "# Solver for given T and composition\n",
    "def VLE(z, ntotal, zH2O, zH2O2, T, PH2Osat, PH2O2sat, pH2O, pH2O2, MH2O, MH2O2, nO2):\n",
    "    \n",
    "    xH2O = z[0]\n",
    "    xH2O2 = z[1]\n",
    "    yH2O = z[2]\n",
    "    yH2O2 = z[3]\n",
    "    yO2 = z[4]\n",
    "    nL = z[5]\n",
    "    nG = z[6]\n",
    "    P = z[7]\n",
    "    PH2O = z[8]\n",
    "    PH2O2 = z[9]\n",
    "    VL = z[10]\n",
    "    ZO2 = z[11]\n",
    "    \n",
    "    A = 0.42748*Pred(P, 'O2')/Tred(T, 'O2')**2.5\n",
    "    B = 0.08664*Pred(P, 'O2')/Tred(T, 'O2')\n",
    "    \n",
    "    [aH2O, aH2O2] = activity(T, xH2O)\n",
    "    \n",
    "    F = empty(12)\n",
    "    F[0] = nL*xH2O + nG*yH2O - ntotal*zH2O\n",
    "    F[1] = nL*xH2O2 + nG*yH2O2 - ntotal*zH2O2\n",
    "    F[2] = nL + nG - ntotal\n",
    "    F[3] = PH2O + PH2O2 + (ZO2*nO2*R*C2K(T))/(VR-VL) - P\n",
    "    F[4] = PH2O - xH2O*PH2Osat*aH2O\n",
    "    F[5] = PH2O2 - xH2O2*PH2O2sat*aH2O2\n",
    "    F[6] = yH2O - PH2O/P\n",
    "    F[7] = yH2O2 - PH2O2/P\n",
    "    F[8] = yO2 - (ZO2*nO2*R*C2K(T))/((VR-VL)*P)\n",
    "    F[9] = xH2O + xH2O2 - yH2O - yH2O2 - yO2\n",
    "    F[10] = VL - nL*((xH2O*MH2O/(pH2O*1000)) + (xH2O2*MH2O2/(pH2O2*1000)))\n",
    "    F[11] = ZO2**3 - ZO2**2 + (A - B - B**2)*ZO2 - A*B\n",
    "\n",
    "    return F"
   ]
  },
  {
   "cell_type": "markdown",
   "metadata": {},
   "source": [
    "## Compressibility Factor (RK-EOS)"
   ]
  },
  {
   "cell_type": "code",
   "execution_count": 23,
   "metadata": {},
   "outputs": [],
   "source": [
    "def compressinit(z, P, T, flag):\n",
    "    \n",
    "    A = 0.42748*Pred(P, flag)/Tred(T, flag)**2.5\n",
    "    B = 0.08664*Pred(P, flag)/Tred(T, flag)\n",
    "    \n",
    "    F = empty(1)\n",
    "    F[0] = z[0]**3 - z[0]**2 + (A - B - B**2)*z[0] - A*B\n",
    "    \n",
    "    return F\n",
    "\n",
    "def compress(P, T, flag):\n",
    "    \n",
    "    initval = 0.99\n",
    "    \n",
    "    output = fsolve(compressinit, initval, args=(P, T, flag))\n",
    "    \n",
    "    return output"
   ]
  },
  {
   "cell_type": "markdown",
   "metadata": {},
   "source": [
    "## Find Equilibrium Conditions"
   ]
  },
  {
   "cell_type": "code",
   "execution_count": 24,
   "metadata": {},
   "outputs": [],
   "source": [
    "# Solver A\n",
    "def Equilibrate(ntotal, zH2O, zH2O2, T, PH2Osat, PH2O2sat, pH2O, pH2O2, MH2O, MH2O2, nO2, flag, data):\n",
    "    if flag == 0:\n",
    "        initvals = array([zH2O, zH2O2, zH2O, zH2O2, zO2, ntotal, ntotal*zH2O2, PH2Osat+PH2O2sat+P0, \n",
    "                          PH2Osat, PH2O2sat, VR-VG0, 0.99])\n",
    "    \n",
    "    if flag == 1:\n",
    "        initvals = asarray(data)\n",
    "    \n",
    "    outputA = fsolve(VLE, initvals, args=(ntotal, zH2O, zH2O2, T, PH2Osat, PH2O2sat, pH2O, pH2O2, MH2O, MH2O2, nO2))\n",
    "\n",
    "    (xH2O, xH2O2, yH2O, yH2O2, yO2, nL, nG, P, PH2O, PH2O2, VL, ZO2) = outputA\n",
    "\n",
    "    VG = VR - VL\n",
    "    \n",
    "    xO2 = 0\n",
    "    \n",
    "    PO2 = nO2*R*C2K(T)/VG\n",
    "    \n",
    "    return [xH2O, xH2O2, xO2, yH2O, yH2O2, yO2, nL, nG, P, PH2O, PH2O2, PO2, VL, VG, ZO2]"
   ]
  },
  {
   "cell_type": "markdown",
   "metadata": {},
   "source": [
    "# ODE Package\n",
    "## Equilibrate to Find Thermodynamically Stable Starting Conditions"
   ]
  },
  {
   "cell_type": "code",
   "execution_count": 25,
   "metadata": {},
   "outputs": [],
   "source": [
    "Eqm = Equilibrate(ntotal, zH2O, zH2O2, T0, PH2Osat, PH2O2sat, pH2O, pH2O2, MH2O, MH2O2, nO2, 0, 0)\n",
    "(xH2O, xH2O2, xO2, yH2O, yH2O2, yO2, nL, nG, P, PH2O, PH2O2, PO2, VL, VG, ZO2) = Eqm"
   ]
  },
  {
   "cell_type": "markdown",
   "metadata": {},
   "source": [
    "## ODEs"
   ]
  },
  {
   "cell_type": "markdown",
   "metadata": {},
   "source": [
    "### ODE Function for Operation Up to RD Burst"
   ]
  },
  {
   "cell_type": "code",
   "execution_count": 26,
   "metadata": {},
   "outputs": [],
   "source": [
    "def BPR_PID(t, Y, Urx, Dv, rate, Cv_BPR_max, data):\n",
    "    \n",
    "    T, Tj, nH2O, nH2O2, nO2 = Y\n",
    "    \n",
    "    R = 8.3145 # Ideal gas constant (L*kPa/mol*K)\n",
    "\n",
    "    MH2O = 18.01528 # Molecular weight water (g/mol)\n",
    "    MH2O2 = 34.0147 # Molecular weight hydrogen peroxide (g/mol)\n",
    "    MO2 = 31.998 # Molecular weight oxygen (g/mol)\n",
    "    \n",
    "    [pH2O, pH2O2] = densityL(T) # Liquid density (kg/L)\n",
    "    \n",
    "    [PH2Osat, PH2O2sat] = antoine(T) # Saturation pressures for volatile components (kPa)\n",
    "    \n",
    "    [CpH2OL, CpH2O2L] = CpLiq(T) # Liquid constant pressure heat capacities (J/(g*K))\n",
    "    \n",
    "    [CpH2OG, CpH2O2G, CpO2G] = CpGas(T) # Vapour constant pressure heat capacities (J/(g*K))\n",
    "    \n",
    "    dHvap = enthvap(T) # Enthalpy of vaporization (J/g)\n",
    "    \n",
    "    zH2O = nH2O/(nH2O + nH2O2 + nO2) # Mole fraction water in vessel\n",
    "    \n",
    "    zH2O2 = nH2O2/(nH2O + nH2O2 + nO2) # Mole fraction hydrogen peroxide in vessel\n",
    "    \n",
    "    ntotal = nH2O + nH2O2 + nO2 # Total molar amount in vessel (mol)\n",
    "    \n",
    "    mR = nH2O*MH2O + nH2O2*MH2O2 + nO2*MO2 # Total reaction mass (g)\n",
    "    \n",
    "    (xH2O, xH2O2, xO2, yH2O, yH2O2, yO2, nL, nG, P, PH2O, PH2O2, PO2, VL, VG, ZO2) = Equilibrate(ntotal, \n",
    "                                                                                            zH2O, zH2O2, T, PH2Osat, PH2O2sat, pH2O, pH2O2, MH2O, MH2O2, nO2, 1, data)\n",
    "    \n",
    "    x = nG*(yH2O*MH2O + yH2O2*MH2O2 + yO2*MO2)/(nG*(yH2O*MH2O + yH2O2*MH2O2 + yO2*MO2) + nL*(xH2O*MH2O + xH2O2*MH2O2)) # Mass fraction vapour in vessel\n",
    "    \n",
    "    CpL = xH2O*CpH2OL + xH2O2*CpH2O2L # Average liquid constant pressure heat capacity (J/(g*K))\n",
    "    \n",
    "    CpG = yH2O*CpH2OG + yH2O2*CpH2O2G + yO2*CpO2G # Average vapour constant pressure heat capacity (J/(g*K))\n",
    "    \n",
    "    Cp = x*CpG + (1-x)*CpL # Average heat capacity in vessel (J/(g*K))\n",
    "    \n",
    "    pG = (1/(R*C2K(T)*1000))*(PH2O*MH2O + PH2O2*MH2O2 + PO2*MO2) # Average vapour density (kg/L)\n",
    "    \n",
    "    pL = pH2O*xH2O + pH2O2*xH2O2 # Average liquid density (kg/L)\n",
    "    \n",
    "    vL = 1/pL # Average specific gravity (L/kg)\n",
    "    \n",
    "    vfg = (1/pG) - (1/pL) # Change in specific volume upon vaporization (L/kg)\n",
    "    \n",
    "    if P_discharge <= P_crit(P, T, yH2O, yH2O2, yO2):\n",
    "        flag = 1   \n",
    "    else:\n",
    "        flag = 0\n",
    "    \n",
    "    if P > P_BPR:\n",
    "        n_vent = ventflow(T, P, P_BPR, yH2O, yH2O2, yO2, Cv_BPR_max, D_BPR, 0)\n",
    "    else:\n",
    "        n_vent = 0\n",
    "    \n",
    "    # Differential equations for change in molar amount of components (mol/s)\n",
    "    dnH2O_dt = krxn(T, kf)*nH2O2 - n_vent*yH2O\n",
    "    dnH2O2_dt = -krxn(T, kf)*nH2O2 - n_vent*yH2O2\n",
    "    dnO2_dt = krxn(T, kf)*nH2O2/2 - n_vent*yO2\n",
    "    \n",
    "    dTj_dt = rate/60 # Jacket Temperature (C/s)\n",
    "    \n",
    "    Qr = dnH2O2_dt*MH2O2*dHrxnL # Reaction heat flux (J/s)\n",
    "    \n",
    "    QHEx = Urx*Awet(VL, Dv)*(T-Tj) # External heat exchanger heat flux (J/s)\n",
    "    \n",
    "    Q_vap = ((vL/vfg)+1)*dHvap*n_vent*(yH2O + yH2O2)*MH2O # Latent heat of evaporation (J/s)\n",
    "    \n",
    "    Xp = ((dHvap - P*vfg)/(vfg*Cp*1000))*(x*dvGdT(PH2O, PH2O2, PO2, T)/1000 + (1 - x)*dvLdT(T)/1000)\n",
    "    \n",
    "    dT_dt = (Qr - QHEx - Q_vap)/(mR*Cp*(1 - Xp))\n",
    "    \n",
    "    return [dT_dt, dTj_dt, dnH2O_dt, dnH2O2_dt, dnO2_dt]"
   ]
  },
  {
   "cell_type": "markdown",
   "metadata": {},
   "source": [
    "### ODE Function for Post-Relief Period"
   ]
  },
  {
   "cell_type": "code",
   "execution_count": 27,
   "metadata": {},
   "outputs": [],
   "source": [
    "def RD_VENT_RXN(t, Y, Urx, Dv, rate, n_vent, xe, data): # Reaction Continues\n",
    "    \n",
    "    T, Tj, nH2O, nH2O2, nO2 = Y\n",
    "    \n",
    "    R = 8.3145 # Ideal gas constant (L*kPa/mol*K)\n",
    "    \n",
    "    MH2O = 18.01528 # Molecular weight water (g/mol)\n",
    "    MH2O2 = 34.0147 # Molecular weight hydrogen peroxide (g/mol)\n",
    "    MO2 = 31.998 # Molecular weight oxygen (g/mol)\n",
    "    \n",
    "    [pH2O, pH2O2] = densityL(T) # Liquid density (kg/L)\n",
    "    \n",
    "    [PH2Osat, PH2O2sat] = antoine(T) # Saturation pressures for volatile components (kPa)\n",
    "    \n",
    "    [CpH2OL, CpH2O2L] = CpLiq(T) # Liquid constant pressure heat capacities (J/(g*K))\n",
    "    \n",
    "    [CpH2OG, CpH2O2G, CpO2G] = CpGas(T) # Vapour constant pressure heat capacities (J/(g*K))\n",
    "    \n",
    "    dHvap = enthvap(T) # Enthalpy of vaporization (J/g)\n",
    "    \n",
    "    zH2O = nH2O/(nH2O + nH2O2 + nO2) # Mole fraction water in vessel\n",
    "    \n",
    "    zH2O2 = nH2O2/(nH2O + nH2O2 + nO2) # Mole fraction hydrogen peroxide in vessel\n",
    "    \n",
    "    ntotal = nH2O + nH2O2 + nO2 # Total molar amount in vessel (mol)\n",
    "    \n",
    "    mR = nH2O*MH2O + nH2O2*MH2O2 + nO2*MO2 # Total reaction mass (g)\n",
    "    \n",
    "    (xH2O, xH2O2, xO2, yH2O, yH2O2, yO2, nL, nG, P, PH2O, PH2O2, PO2, VL, VG, ZO2) = Equilibrate(ntotal, \n",
    "                                                                                            zH2O, zH2O2, T, PH2Osat, PH2O2sat, pH2O, pH2O2, MH2O, MH2O2, nO2, 1, data)\n",
    "    \n",
    "    x = nG*(yH2O*MH2O + yH2O2*MH2O2 + yO2*MO2)/(nG*(yH2O*MH2O + yH2O2*MH2O2 + yO2*MO2) + nL*(xH2O*MH2O + xH2O2*MH2O2)) # Mass fraction vapour in vessel\n",
    "    \n",
    "    CpL = xH2O*CpH2OL + xH2O2*CpH2O2L # Average liquid constant pressure heat capacity (J/(g*K))\n",
    "    \n",
    "    CpG = yH2O*CpH2OG + yH2O2*CpH2O2G + yO2*CpO2G # Average vapour constant pressure heat capacity (J/(g*K))\n",
    "    \n",
    "    Cp = x*CpG + (1-x)*CpL # Average heat capacity in vessel (J/(g*K))\n",
    "    \n",
    "    pG = (1/(R*C2K(T)*1000))*(PH2O*MH2O + PH2O2*MH2O2 + PO2*MO2) # Average vapour density (kg/L)\n",
    "    \n",
    "    pL = pH2O*xH2O + pH2O2*xH2O2 # Average liquid density (kg/L)\n",
    "    \n",
    "    vL = 1/pL # Average specific gravity (L/kg)\n",
    "    \n",
    "    vfg = (1/pG) - (1/pL) # Change in specific volume upon vaporization (L/kg)\n",
    "    \n",
    "    # Differential equations for change in molar amount of components (mol/s)\n",
    "    dnH2O_dt = krxn(T, kf)*nH2O2 - (yH2O*xe + xH2O*(1-xe))*n_vent\n",
    "    dnH2O2_dt = -krxn(T, kf)*nH2O2 - (yH2O2*xe + xH2O2*(1-xe))*n_vent\n",
    "    dnO2_dt = krxn(T, kf)*nH2O2/2 - yO2*xe*n_vent\n",
    "    \n",
    "    dTj_dt = rate/60 # Jacket Temperature (C/s)\n",
    "    \n",
    "    Qr = dnH2O2_dt*MH2O2*dHrxnL # Reaction heat flux (J/s)\n",
    "    \n",
    "    QHEx = Urx*Awet(VL, Dv)*(T-Tj) # External heat exchanger heat flux (J/s)\n",
    "    \n",
    "    Q_vap = ((vL/vfg)+xe)*dHvap*n_vent*(yH2O + yH2O2)*MH2O # Latent heat of evaporation (J/s)\n",
    "    \n",
    "    Xp = ((dHvap - P*vfg)/(vfg*Cp*1000))*(x*dvGdT(PH2O, PH2O2, PO2, T)/1000 + (1 - x)*dvLdT(T)/1000)\n",
    "    \n",
    "    dT_dt = (Qr - QHEx - Q_vap)/(mR*Cp*(1 - Xp))\n",
    "    \n",
    "    return [dT_dt, dTj_dt, dnH2O_dt, dnH2O2_dt, dnO2_dt]"
   ]
  },
  {
   "cell_type": "markdown",
   "metadata": {},
   "source": [
    "## Termination Conditions"
   ]
  },
  {
   "cell_type": "code",
   "execution_count": 28,
   "metadata": {},
   "outputs": [],
   "source": [
    "def checkoutput(y, data):\n",
    "    \n",
    "    zH2O = y[2]/(y[2] + y[3] + y[4]) # Mole fraction water in vessel\n",
    "    \n",
    "    zH2O2 = y[3]/(y[2] + y[3] + y[4]) # Mole fraction hydrogen peroxide in vessel\n",
    "    \n",
    "    ntotal = y[2] + y[3] + y[4] # Total molar amount in vessel (mol)\n",
    "    \n",
    "    nO2 = y[4]\n",
    "    \n",
    "    T = y[0]\n",
    "    \n",
    "    [pH2O, pH2O2] = densityL(T) # Liquid density (kg/L)\n",
    "    \n",
    "    [PH2Osat, PH2O2sat] = antoine(T) # Saturation pressures for volatile components (kPa)\n",
    "    \n",
    "    f = Equilibrate(ntotal, zH2O, zH2O2, T, PH2Osat, PH2O2sat, pH2O, pH2O2, MH2O, MH2O2, nO2, 1, data)\n",
    "    \n",
    "    return f"
   ]
  },
  {
   "cell_type": "markdown",
   "metadata": {},
   "source": [
    "## Run ODE Solver - Up to RD Burst"
   ]
  },
  {
   "cell_type": "code",
   "execution_count": 29,
   "metadata": {},
   "outputs": [],
   "source": [
    "t0 = 0.0\n",
    "tmax = 12*60*60 # (h)\n",
    "N = int(tmax) # Data points number\n",
    "t = linspace(t0, tmax, N)\n",
    "\n",
    "Tj0 = T0 # Starting jacket temperature (C)\n",
    "\n",
    "T_rxn = 110 # Target reaction temperature (C)\n",
    "rate_max = 2 # Maximum jacket rate of temperature change (C/min)\n",
    "\n",
    "Y0 = [T0, Tj0, nH2O, nH2O2, nO2]\n",
    "\n",
    "sol = zeros((N, len(Y0)))\n",
    "dsol = zeros((N, len(Y0)))\n",
    "data = zeros((N, len(Eqm)))\n",
    "sol[0] = Y0\n",
    "data[0] = Eqm\n",
    "\n",
    "n_vent = zeros(N+1)\n",
    "rate = zeros(N+1)\n",
    "P_critical = zeros(N+1)\n",
    "n_vent = zeros(N+1)\n",
    "n_vent[0] = 0\n",
    "rate[0] = 0\n",
    "P_critical[0] = P_crit(P_discharge, T0, yH2O, yH2O2, yO2)\n",
    "n_vent[0] = 0\n",
    "\n",
    "solver = ode(BPR_PID)\n",
    "# integrator list: vode, zvode, lsoda, dopri5, dop853\n",
    "solver.set_integrator('lsoda') #max_step = 60 , atol = 1e-4, rtol = 1e-4,\n",
    "solver.set_initial_value(Y0, t0)\n",
    "\n",
    "pid_jacket = PID(Kp = 0.016, Ki = 0, Kd = 0, setpoint = T_rxn,\n",
    "          output_limits = (-rate_max, rate_max), auto_mode = True, sample_time = 0.01)\n",
    "\n",
    "k = 1\n",
    "\n",
    "while solver.successful() and solver.t < tmax:\n",
    "    \n",
    "    if t[k]/3600 >= 9:\n",
    "        pid_jacket.setpoint = T0\n",
    "        \n",
    "        if data[k-1, 8] <= P_discharge:\n",
    "            break\n",
    "\n",
    "    rate[k] = pid_jacket(sol[k-1, 0])\n",
    "    \n",
    "    solver.set_f_params(Urx, Dv, rate[k], Cv_BPR_max, list(data[k-1, i] for i in [0, 1, 3, 4, 5, 6, 7, 8, 9, 10, 12, 14]))\n",
    "    solver.integrate(t[k])\n",
    "    sol[k] = solver.y\n",
    "    data[k] = checkoutput(solver.y, list(data[k-1, i] for i in [0, 1, 3, 4, 5, 6, 7, 8, 9, 10, 12, 14]))\n",
    "    dsol[k] = BPR_PID(t[k], sol[k, :], Urx, Dv, rate[k], Cv_BPR_max, list(data[k, i] for i in [0, 1, 3, 4, 5, 6, 7, 8, 9, 10, 12, 14]))\n",
    "    \n",
    "    P_critical[k] = P_crit(data[k, 8], sol[k, 0], data[k, 3], data[k, 4], data[k, 5])\n",
    "    \n",
    "    if P_discharge <= P_critical[k]:\n",
    "        crit = 1\n",
    "    else:\n",
    "        crit = 0\n",
    "    \n",
    "    if data[k, 8] > P_BPR:\n",
    "        n_vent[k] = ventflow(sol[k, 0], data[k, 8], P_BPR, data[k, 3], data[k, 4], data[k, 5], Cv_BPR_max, D_BPR, 0)\n",
    "    else:\n",
    "        n_vent[k] = 0\n",
    "    \n",
    "    if data[k,8] >= P_RD:\n",
    "        break\n",
    "        \n",
    "    k += 1"
   ]
  },
  {
   "cell_type": "markdown",
   "metadata": {},
   "source": [
    "## Optional ODE Solver for Post-Relief Period"
   ]
  },
  {
   "cell_type": "code",
   "execution_count": 33,
   "metadata": {},
   "outputs": [],
   "source": [
    "Y0 = sol[k,:]\n",
    "t0 = t[k]\n",
    "\n",
    "solver2 = ode(RD_VENT_RXN)\n",
    "solver2.set_integrator('vode')\n",
    "solver2.set_initial_value(Y0, t0)\n",
    "\n",
    "tmax = 60*60 # (s)\n",
    "N = int(tmax*50) # Data points number\n",
    "t2 = linspace(t0, t0 + tmax, N)\n",
    "\n",
    "sol_vent = zeros((N, len(Y0)))\n",
    "dsol_vent = zeros((N, len(Y0)))\n",
    "data_vent = zeros((N, len(data[k, :])))\n",
    "sol_vent[0] = sol[k, :]\n",
    "data_vent[0] = data[k, :]\n",
    "dsol_vent[0] = dsol[k, :]\n",
    "\n",
    "rate_vent = zeros(N+1)\n",
    "TF = zeros(N+1)\n",
    "xe = zeros(N+1)\n",
    "n_RD = zeros(N+1)\n",
    "rate_vent[0] = rate[k]\n",
    "TF[0] = 0\n",
    "xe[0] = 0.01\n",
    "n_RD[0] = 0"
   ]
  },
  {
   "cell_type": "code",
   "execution_count": 34,
   "metadata": {},
   "outputs": [
    {
     "ename": "KeyboardInterrupt",
     "evalue": "",
     "output_type": "error",
     "traceback": [
      "\u001b[0;31m---------------------------------------------------------------------------\u001b[0m",
      "\u001b[0;31mKeyboardInterrupt\u001b[0m                         Traceback (most recent call last)",
      "\u001b[0;32m<ipython-input-34-caa6c25f0a8e>\u001b[0m in \u001b[0;36m<module>\u001b[0;34m\u001b[0m\n\u001b[1;32m     22\u001b[0m \u001b[0;34m\u001b[0m\u001b[0m\n\u001b[1;32m     23\u001b[0m     \u001b[0msolver2\u001b[0m\u001b[0;34m.\u001b[0m\u001b[0mset_f_params\u001b[0m\u001b[0;34m(\u001b[0m\u001b[0mUrx\u001b[0m\u001b[0;34m,\u001b[0m \u001b[0mDv\u001b[0m\u001b[0;34m,\u001b[0m \u001b[0mrate_vent\u001b[0m\u001b[0;34m[\u001b[0m\u001b[0mq\u001b[0m\u001b[0;34m]\u001b[0m\u001b[0;34m,\u001b[0m \u001b[0mn_RD\u001b[0m\u001b[0;34m[\u001b[0m\u001b[0mq\u001b[0m\u001b[0;34m]\u001b[0m\u001b[0;34m,\u001b[0m \u001b[0mxe\u001b[0m\u001b[0;34m[\u001b[0m\u001b[0mq\u001b[0m\u001b[0;34m]\u001b[0m\u001b[0;34m,\u001b[0m \u001b[0mlist\u001b[0m\u001b[0;34m(\u001b[0m\u001b[0mdata_vent\u001b[0m\u001b[0;34m[\u001b[0m\u001b[0mq\u001b[0m\u001b[0;34m-\u001b[0m\u001b[0;36m1\u001b[0m\u001b[0;34m,\u001b[0m \u001b[0mi\u001b[0m\u001b[0;34m]\u001b[0m \u001b[0;32mfor\u001b[0m \u001b[0mi\u001b[0m \u001b[0;32min\u001b[0m \u001b[0;34m[\u001b[0m\u001b[0;36m0\u001b[0m\u001b[0;34m,\u001b[0m \u001b[0;36m1\u001b[0m\u001b[0;34m,\u001b[0m \u001b[0;36m3\u001b[0m\u001b[0;34m,\u001b[0m \u001b[0;36m4\u001b[0m\u001b[0;34m,\u001b[0m \u001b[0;36m5\u001b[0m\u001b[0;34m,\u001b[0m \u001b[0;36m6\u001b[0m\u001b[0;34m,\u001b[0m \u001b[0;36m7\u001b[0m\u001b[0;34m,\u001b[0m \u001b[0;36m8\u001b[0m\u001b[0;34m,\u001b[0m \u001b[0;36m9\u001b[0m\u001b[0;34m,\u001b[0m \u001b[0;36m10\u001b[0m\u001b[0;34m,\u001b[0m \u001b[0;36m12\u001b[0m\u001b[0;34m,\u001b[0m \u001b[0;36m14\u001b[0m\u001b[0;34m]\u001b[0m\u001b[0;34m)\u001b[0m\u001b[0;34m)\u001b[0m\u001b[0;34m\u001b[0m\u001b[0;34m\u001b[0m\u001b[0m\n\u001b[0;32m---> 24\u001b[0;31m     \u001b[0msolver2\u001b[0m\u001b[0;34m.\u001b[0m\u001b[0mintegrate\u001b[0m\u001b[0;34m(\u001b[0m\u001b[0mt2\u001b[0m\u001b[0;34m[\u001b[0m\u001b[0mq\u001b[0m\u001b[0;34m]\u001b[0m\u001b[0;34m)\u001b[0m\u001b[0;34m\u001b[0m\u001b[0;34m\u001b[0m\u001b[0m\n\u001b[0m\u001b[1;32m     25\u001b[0m     \u001b[0msol_vent\u001b[0m\u001b[0;34m[\u001b[0m\u001b[0mq\u001b[0m\u001b[0;34m]\u001b[0m \u001b[0;34m=\u001b[0m \u001b[0msolver2\u001b[0m\u001b[0;34m.\u001b[0m\u001b[0my\u001b[0m\u001b[0;34m\u001b[0m\u001b[0;34m\u001b[0m\u001b[0m\n\u001b[1;32m     26\u001b[0m     \u001b[0mdata_vent\u001b[0m\u001b[0;34m[\u001b[0m\u001b[0mq\u001b[0m\u001b[0;34m]\u001b[0m \u001b[0;34m=\u001b[0m \u001b[0mcheckoutput\u001b[0m\u001b[0;34m(\u001b[0m\u001b[0msolver2\u001b[0m\u001b[0;34m.\u001b[0m\u001b[0my\u001b[0m\u001b[0;34m,\u001b[0m \u001b[0mlist\u001b[0m\u001b[0;34m(\u001b[0m\u001b[0mdata_vent\u001b[0m\u001b[0;34m[\u001b[0m\u001b[0mq\u001b[0m\u001b[0;34m-\u001b[0m\u001b[0;36m1\u001b[0m\u001b[0;34m,\u001b[0m \u001b[0mi\u001b[0m\u001b[0;34m]\u001b[0m \u001b[0;32mfor\u001b[0m \u001b[0mi\u001b[0m \u001b[0;32min\u001b[0m \u001b[0;34m[\u001b[0m\u001b[0;36m0\u001b[0m\u001b[0;34m,\u001b[0m \u001b[0;36m1\u001b[0m\u001b[0;34m,\u001b[0m \u001b[0;36m3\u001b[0m\u001b[0;34m,\u001b[0m \u001b[0;36m4\u001b[0m\u001b[0;34m,\u001b[0m \u001b[0;36m5\u001b[0m\u001b[0;34m,\u001b[0m \u001b[0;36m6\u001b[0m\u001b[0;34m,\u001b[0m \u001b[0;36m7\u001b[0m\u001b[0;34m,\u001b[0m \u001b[0;36m8\u001b[0m\u001b[0;34m,\u001b[0m \u001b[0;36m9\u001b[0m\u001b[0;34m,\u001b[0m \u001b[0;36m10\u001b[0m\u001b[0;34m,\u001b[0m \u001b[0;36m12\u001b[0m\u001b[0;34m,\u001b[0m \u001b[0;36m14\u001b[0m\u001b[0;34m]\u001b[0m\u001b[0;34m)\u001b[0m\u001b[0;34m)\u001b[0m\u001b[0;34m\u001b[0m\u001b[0;34m\u001b[0m\u001b[0m\n",
      "\u001b[0;32m/data/data/com.termux/files/usr/lib/python3.7/site-packages/scipy-1.2.0rc1-py3.7-linux-aarch64.egg/scipy/integrate/_ode.py\u001b[0m in \u001b[0;36mintegrate\u001b[0;34m(self, t, step, relax)\u001b[0m\n\u001b[1;32m    430\u001b[0m             self._y, self.t = mth(self.f, self.jac or (lambda: None),\n\u001b[1;32m    431\u001b[0m                                   \u001b[0mself\u001b[0m\u001b[0;34m.\u001b[0m\u001b[0m_y\u001b[0m\u001b[0;34m,\u001b[0m \u001b[0mself\u001b[0m\u001b[0;34m.\u001b[0m\u001b[0mt\u001b[0m\u001b[0;34m,\u001b[0m \u001b[0mt\u001b[0m\u001b[0;34m,\u001b[0m\u001b[0;34m\u001b[0m\u001b[0;34m\u001b[0m\u001b[0m\n\u001b[0;32m--> 432\u001b[0;31m                                   self.f_params, self.jac_params)\n\u001b[0m\u001b[1;32m    433\u001b[0m         \u001b[0;32mexcept\u001b[0m \u001b[0mSystemError\u001b[0m\u001b[0;34m:\u001b[0m\u001b[0;34m\u001b[0m\u001b[0;34m\u001b[0m\u001b[0m\n\u001b[1;32m    434\u001b[0m             \u001b[0;31m# f2py issue with tuple returns, see ticket 1187.\u001b[0m\u001b[0;34m\u001b[0m\u001b[0;34m\u001b[0m\u001b[0;34m\u001b[0m\u001b[0m\n",
      "\u001b[0;32m/data/data/com.termux/files/usr/lib/python3.7/site-packages/scipy-1.2.0rc1-py3.7-linux-aarch64.egg/scipy/integrate/_ode.py\u001b[0m in \u001b[0;36mrun\u001b[0;34m(self, f, jac, y0, t0, t1, f_params, jac_params)\u001b[0m\n\u001b[1;32m   1002\u001b[0m         args = ((f, jac, y0, t0, t1) + tuple(self.call_args) +\n\u001b[1;32m   1003\u001b[0m                 (f_params, jac_params))\n\u001b[0;32m-> 1004\u001b[0;31m         \u001b[0my1\u001b[0m\u001b[0;34m,\u001b[0m \u001b[0mt\u001b[0m\u001b[0;34m,\u001b[0m \u001b[0mistate\u001b[0m \u001b[0;34m=\u001b[0m \u001b[0mself\u001b[0m\u001b[0;34m.\u001b[0m\u001b[0mrunner\u001b[0m\u001b[0;34m(\u001b[0m\u001b[0;34m*\u001b[0m\u001b[0margs\u001b[0m\u001b[0;34m)\u001b[0m\u001b[0;34m\u001b[0m\u001b[0;34m\u001b[0m\u001b[0m\n\u001b[0m\u001b[1;32m   1005\u001b[0m         \u001b[0mself\u001b[0m\u001b[0;34m.\u001b[0m\u001b[0mistate\u001b[0m \u001b[0;34m=\u001b[0m \u001b[0mistate\u001b[0m\u001b[0;34m\u001b[0m\u001b[0;34m\u001b[0m\u001b[0m\n\u001b[1;32m   1006\u001b[0m         \u001b[0;32mif\u001b[0m \u001b[0mistate\u001b[0m \u001b[0;34m<\u001b[0m \u001b[0;36m0\u001b[0m\u001b[0;34m:\u001b[0m\u001b[0;34m\u001b[0m\u001b[0;34m\u001b[0m\u001b[0m\n",
      "\u001b[0;32m<ipython-input-27-4e197299c9e6>\u001b[0m in \u001b[0;36mRD_VENT_RXN\u001b[0;34m(t, Y, Urx, Dv, rate, n_vent, xe, data)\u001b[0m\n\u001b[1;32m     28\u001b[0m \u001b[0;34m\u001b[0m\u001b[0m\n\u001b[1;32m     29\u001b[0m     (xH2O, xH2O2, xO2, yH2O, yH2O2, yO2, nL, nG, P, PH2O, PH2O2, PO2, VL, VG, ZO2) = Equilibrate(ntotal, \n\u001b[0;32m---> 30\u001b[0;31m                                                                                             zH2O, zH2O2, T, PH2Osat, PH2O2sat, pH2O, pH2O2, MH2O, MH2O2, nO2, 1, data)\n\u001b[0m\u001b[1;32m     31\u001b[0m \u001b[0;34m\u001b[0m\u001b[0m\n\u001b[1;32m     32\u001b[0m     \u001b[0mx\u001b[0m \u001b[0;34m=\u001b[0m \u001b[0mnG\u001b[0m\u001b[0;34m*\u001b[0m\u001b[0;34m(\u001b[0m\u001b[0myH2O\u001b[0m\u001b[0;34m*\u001b[0m\u001b[0mMH2O\u001b[0m \u001b[0;34m+\u001b[0m \u001b[0myH2O2\u001b[0m\u001b[0;34m*\u001b[0m\u001b[0mMH2O2\u001b[0m \u001b[0;34m+\u001b[0m \u001b[0myO2\u001b[0m\u001b[0;34m*\u001b[0m\u001b[0mMO2\u001b[0m\u001b[0;34m)\u001b[0m\u001b[0;34m/\u001b[0m\u001b[0;34m(\u001b[0m\u001b[0mnG\u001b[0m\u001b[0;34m*\u001b[0m\u001b[0;34m(\u001b[0m\u001b[0myH2O\u001b[0m\u001b[0;34m*\u001b[0m\u001b[0mMH2O\u001b[0m \u001b[0;34m+\u001b[0m \u001b[0myH2O2\u001b[0m\u001b[0;34m*\u001b[0m\u001b[0mMH2O2\u001b[0m \u001b[0;34m+\u001b[0m \u001b[0myO2\u001b[0m\u001b[0;34m*\u001b[0m\u001b[0mMO2\u001b[0m\u001b[0;34m)\u001b[0m \u001b[0;34m+\u001b[0m \u001b[0mnL\u001b[0m\u001b[0;34m*\u001b[0m\u001b[0;34m(\u001b[0m\u001b[0mxH2O\u001b[0m\u001b[0;34m*\u001b[0m\u001b[0mMH2O\u001b[0m \u001b[0;34m+\u001b[0m \u001b[0mxH2O2\u001b[0m\u001b[0;34m*\u001b[0m\u001b[0mMH2O2\u001b[0m\u001b[0;34m)\u001b[0m\u001b[0;34m)\u001b[0m \u001b[0;31m# Mass fraction vapour in vessel\u001b[0m\u001b[0;34m\u001b[0m\u001b[0;34m\u001b[0m\u001b[0m\n",
      "\u001b[0;32m<ipython-input-24-6fff20d5183a>\u001b[0m in \u001b[0;36mEquilibrate\u001b[0;34m(ntotal, zH2O, zH2O2, T, PH2Osat, PH2O2sat, pH2O, pH2O2, MH2O, MH2O2, nO2, flag, data)\u001b[0m\n\u001b[1;32m      8\u001b[0m         \u001b[0minitvals\u001b[0m \u001b[0;34m=\u001b[0m \u001b[0masarray\u001b[0m\u001b[0;34m(\u001b[0m\u001b[0mdata\u001b[0m\u001b[0;34m)\u001b[0m\u001b[0;34m\u001b[0m\u001b[0;34m\u001b[0m\u001b[0m\n\u001b[1;32m      9\u001b[0m \u001b[0;34m\u001b[0m\u001b[0m\n\u001b[0;32m---> 10\u001b[0;31m     \u001b[0moutputA\u001b[0m \u001b[0;34m=\u001b[0m \u001b[0mfsolve\u001b[0m\u001b[0;34m(\u001b[0m\u001b[0mVLE\u001b[0m\u001b[0;34m,\u001b[0m \u001b[0minitvals\u001b[0m\u001b[0;34m,\u001b[0m \u001b[0margs\u001b[0m\u001b[0;34m=\u001b[0m\u001b[0;34m(\u001b[0m\u001b[0mntotal\u001b[0m\u001b[0;34m,\u001b[0m \u001b[0mzH2O\u001b[0m\u001b[0;34m,\u001b[0m \u001b[0mzH2O2\u001b[0m\u001b[0;34m,\u001b[0m \u001b[0mT\u001b[0m\u001b[0;34m,\u001b[0m \u001b[0mPH2Osat\u001b[0m\u001b[0;34m,\u001b[0m \u001b[0mPH2O2sat\u001b[0m\u001b[0;34m,\u001b[0m \u001b[0mpH2O\u001b[0m\u001b[0;34m,\u001b[0m \u001b[0mpH2O2\u001b[0m\u001b[0;34m,\u001b[0m \u001b[0mMH2O\u001b[0m\u001b[0;34m,\u001b[0m \u001b[0mMH2O2\u001b[0m\u001b[0;34m,\u001b[0m \u001b[0mnO2\u001b[0m\u001b[0;34m)\u001b[0m\u001b[0;34m)\u001b[0m\u001b[0;34m\u001b[0m\u001b[0;34m\u001b[0m\u001b[0m\n\u001b[0m\u001b[1;32m     11\u001b[0m \u001b[0;34m\u001b[0m\u001b[0m\n\u001b[1;32m     12\u001b[0m     \u001b[0;34m(\u001b[0m\u001b[0mxH2O\u001b[0m\u001b[0;34m,\u001b[0m \u001b[0mxH2O2\u001b[0m\u001b[0;34m,\u001b[0m \u001b[0myH2O\u001b[0m\u001b[0;34m,\u001b[0m \u001b[0myH2O2\u001b[0m\u001b[0;34m,\u001b[0m \u001b[0myO2\u001b[0m\u001b[0;34m,\u001b[0m \u001b[0mnL\u001b[0m\u001b[0;34m,\u001b[0m \u001b[0mnG\u001b[0m\u001b[0;34m,\u001b[0m \u001b[0mP\u001b[0m\u001b[0;34m,\u001b[0m \u001b[0mPH2O\u001b[0m\u001b[0;34m,\u001b[0m \u001b[0mPH2O2\u001b[0m\u001b[0;34m,\u001b[0m \u001b[0mVL\u001b[0m\u001b[0;34m,\u001b[0m \u001b[0mZO2\u001b[0m\u001b[0;34m)\u001b[0m \u001b[0;34m=\u001b[0m \u001b[0moutputA\u001b[0m\u001b[0;34m\u001b[0m\u001b[0;34m\u001b[0m\u001b[0m\n",
      "\u001b[0;32m/data/data/com.termux/files/usr/lib/python3.7/site-packages/scipy-1.2.0rc1-py3.7-linux-aarch64.egg/scipy/optimize/minpack.py\u001b[0m in \u001b[0;36mfsolve\u001b[0;34m(func, x0, args, fprime, full_output, col_deriv, xtol, maxfev, band, epsfcn, factor, diag)\u001b[0m\n\u001b[1;32m    145\u001b[0m                'diag': diag}\n\u001b[1;32m    146\u001b[0m \u001b[0;34m\u001b[0m\u001b[0m\n\u001b[0;32m--> 147\u001b[0;31m     \u001b[0mres\u001b[0m \u001b[0;34m=\u001b[0m \u001b[0m_root_hybr\u001b[0m\u001b[0;34m(\u001b[0m\u001b[0mfunc\u001b[0m\u001b[0;34m,\u001b[0m \u001b[0mx0\u001b[0m\u001b[0;34m,\u001b[0m \u001b[0margs\u001b[0m\u001b[0;34m,\u001b[0m \u001b[0mjac\u001b[0m\u001b[0;34m=\u001b[0m\u001b[0mfprime\u001b[0m\u001b[0;34m,\u001b[0m \u001b[0;34m**\u001b[0m\u001b[0moptions\u001b[0m\u001b[0;34m)\u001b[0m\u001b[0;34m\u001b[0m\u001b[0;34m\u001b[0m\u001b[0m\n\u001b[0m\u001b[1;32m    148\u001b[0m     \u001b[0;32mif\u001b[0m \u001b[0mfull_output\u001b[0m\u001b[0;34m:\u001b[0m\u001b[0;34m\u001b[0m\u001b[0;34m\u001b[0m\u001b[0m\n\u001b[1;32m    149\u001b[0m         \u001b[0mx\u001b[0m \u001b[0;34m=\u001b[0m \u001b[0mres\u001b[0m\u001b[0;34m[\u001b[0m\u001b[0;34m'x'\u001b[0m\u001b[0;34m]\u001b[0m\u001b[0;34m\u001b[0m\u001b[0;34m\u001b[0m\u001b[0m\n",
      "\u001b[0;32m/data/data/com.termux/files/usr/lib/python3.7/site-packages/scipy-1.2.0rc1-py3.7-linux-aarch64.egg/scipy/optimize/minpack.py\u001b[0m in \u001b[0;36m_root_hybr\u001b[0;34m(func, x0, args, jac, col_deriv, xtol, maxfev, band, eps, factor, diag, **unknown_options)\u001b[0m\n\u001b[1;32m    223\u001b[0m             \u001b[0mmaxfev\u001b[0m \u001b[0;34m=\u001b[0m \u001b[0;36m200\u001b[0m \u001b[0;34m*\u001b[0m \u001b[0;34m(\u001b[0m\u001b[0mn\u001b[0m \u001b[0;34m+\u001b[0m \u001b[0;36m1\u001b[0m\u001b[0;34m)\u001b[0m\u001b[0;34m\u001b[0m\u001b[0;34m\u001b[0m\u001b[0m\n\u001b[1;32m    224\u001b[0m         retval = _minpack._hybrd(func, x0, args, 1, xtol, maxfev,\n\u001b[0;32m--> 225\u001b[0;31m                                  ml, mu, epsfcn, factor, diag)\n\u001b[0m\u001b[1;32m    226\u001b[0m     \u001b[0;32melse\u001b[0m\u001b[0;34m:\u001b[0m\u001b[0;34m\u001b[0m\u001b[0;34m\u001b[0m\u001b[0m\n\u001b[1;32m    227\u001b[0m         \u001b[0m_check_func\u001b[0m\u001b[0;34m(\u001b[0m\u001b[0;34m'fsolve'\u001b[0m\u001b[0;34m,\u001b[0m \u001b[0;34m'fprime'\u001b[0m\u001b[0;34m,\u001b[0m \u001b[0mDfun\u001b[0m\u001b[0;34m,\u001b[0m \u001b[0mx0\u001b[0m\u001b[0;34m,\u001b[0m \u001b[0margs\u001b[0m\u001b[0;34m,\u001b[0m \u001b[0mn\u001b[0m\u001b[0;34m,\u001b[0m \u001b[0;34m(\u001b[0m\u001b[0mn\u001b[0m\u001b[0;34m,\u001b[0m \u001b[0mn\u001b[0m\u001b[0;34m)\u001b[0m\u001b[0;34m)\u001b[0m\u001b[0;34m\u001b[0m\u001b[0;34m\u001b[0m\u001b[0m\n",
      "\u001b[0;32m<ipython-input-22-5250e7feed3c>\u001b[0m in \u001b[0;36mVLE\u001b[0;34m(z, ntotal, zH2O, zH2O2, T, PH2Osat, PH2O2sat, pH2O, pH2O2, MH2O, MH2O2, nO2)\u001b[0m\n\u001b[1;32m     18\u001b[0m     \u001b[0mB\u001b[0m \u001b[0;34m=\u001b[0m \u001b[0;36m0.08664\u001b[0m\u001b[0;34m*\u001b[0m\u001b[0mPred\u001b[0m\u001b[0;34m(\u001b[0m\u001b[0mP\u001b[0m\u001b[0;34m,\u001b[0m \u001b[0;34m'O2'\u001b[0m\u001b[0;34m)\u001b[0m\u001b[0;34m/\u001b[0m\u001b[0mTred\u001b[0m\u001b[0;34m(\u001b[0m\u001b[0mT\u001b[0m\u001b[0;34m,\u001b[0m \u001b[0;34m'O2'\u001b[0m\u001b[0;34m)\u001b[0m\u001b[0;34m\u001b[0m\u001b[0;34m\u001b[0m\u001b[0m\n\u001b[1;32m     19\u001b[0m \u001b[0;34m\u001b[0m\u001b[0m\n\u001b[0;32m---> 20\u001b[0;31m     \u001b[0;34m[\u001b[0m\u001b[0maH2O\u001b[0m\u001b[0;34m,\u001b[0m \u001b[0maH2O2\u001b[0m\u001b[0;34m]\u001b[0m \u001b[0;34m=\u001b[0m \u001b[0mactivity\u001b[0m\u001b[0;34m(\u001b[0m\u001b[0mT\u001b[0m\u001b[0;34m,\u001b[0m \u001b[0mxH2O\u001b[0m\u001b[0;34m)\u001b[0m\u001b[0;34m\u001b[0m\u001b[0;34m\u001b[0m\u001b[0m\n\u001b[0m\u001b[1;32m     21\u001b[0m \u001b[0;34m\u001b[0m\u001b[0m\n\u001b[1;32m     22\u001b[0m     \u001b[0mF\u001b[0m \u001b[0;34m=\u001b[0m \u001b[0mempty\u001b[0m\u001b[0;34m(\u001b[0m\u001b[0;36m12\u001b[0m\u001b[0;34m)\u001b[0m\u001b[0;34m\u001b[0m\u001b[0;34m\u001b[0m\u001b[0m\n",
      "\u001b[0;32m<ipython-input-21-e620b81edeac>\u001b[0m in \u001b[0;36mactivity\u001b[0;34m(T, xH2O)\u001b[0m\n\u001b[1;32m     44\u001b[0m     \u001b[0mBd\u001b[0m \u001b[0;34m=\u001b[0m \u001b[0mCa03\u001b[0m \u001b[0;34m+\u001b[0m \u001b[0;34m(\u001b[0m\u001b[0mCa13\u001b[0m\u001b[0;34m/\u001b[0m\u001b[0;34m(\u001b[0m\u001b[0;36m1\u001b[0m \u001b[0;34m+\u001b[0m \u001b[0mexp\u001b[0m\u001b[0;34m(\u001b[0m\u001b[0mCa23\u001b[0m\u001b[0;34m*\u001b[0m\u001b[0;34m(\u001b[0m\u001b[0mC2K\u001b[0m\u001b[0;34m(\u001b[0m\u001b[0mT\u001b[0m\u001b[0;34m)\u001b[0m \u001b[0;34m-\u001b[0m \u001b[0mCa33\u001b[0m\u001b[0;34m)\u001b[0m\u001b[0;34m)\u001b[0m\u001b[0;34m)\u001b[0m\u001b[0;34m)\u001b[0m\u001b[0;34m\u001b[0m\u001b[0;34m\u001b[0m\u001b[0m\n\u001b[1;32m     45\u001b[0m \u001b[0;34m\u001b[0m\u001b[0m\n\u001b[0;32m---> 46\u001b[0;31m     \u001b[0myH2O2\u001b[0m \u001b[0;34m=\u001b[0m \u001b[0mexp\u001b[0m\u001b[0;34m(\u001b[0m\u001b[0;34m(\u001b[0m\u001b[0mxH2O\u001b[0m\u001b[0;34m**\u001b[0m\u001b[0;36m2\u001b[0m\u001b[0;34m/\u001b[0m\u001b[0;34m(\u001b[0m\u001b[0mR\u001b[0m\u001b[0;34m*\u001b[0m\u001b[0mC2K\u001b[0m\u001b[0;34m(\u001b[0m\u001b[0mT\u001b[0m\u001b[0;34m)\u001b[0m\u001b[0;34m)\u001b[0m\u001b[0;34m)\u001b[0m\u001b[0;34m*\u001b[0m\u001b[0;34m(\u001b[0m\u001b[0mBa\u001b[0m \u001b[0;34m+\u001b[0m \u001b[0mBb\u001b[0m\u001b[0;34m*\u001b[0m\u001b[0;34m(\u001b[0m\u001b[0;36m3\u001b[0m \u001b[0;34m-\u001b[0m \u001b[0;36m4\u001b[0m\u001b[0;34m*\u001b[0m\u001b[0mxH2O\u001b[0m\u001b[0;34m)\u001b[0m \u001b[0;34m+\u001b[0m \u001b[0mBc\u001b[0m\u001b[0;34m*\u001b[0m\u001b[0;34m(\u001b[0m\u001b[0;36m1\u001b[0m \u001b[0;34m-\u001b[0m \u001b[0;36m2\u001b[0m\u001b[0;34m*\u001b[0m\u001b[0mxH2O\u001b[0m\u001b[0;34m)\u001b[0m\u001b[0;34m*\u001b[0m\u001b[0;34m(\u001b[0m\u001b[0;36m5\u001b[0m \u001b[0;34m-\u001b[0m \u001b[0;36m6\u001b[0m\u001b[0;34m*\u001b[0m\u001b[0mxH2O\u001b[0m\u001b[0;34m)\u001b[0m \u001b[0;34m+\u001b[0m \u001b[0mBd\u001b[0m\u001b[0;34m*\u001b[0m\u001b[0;34m(\u001b[0m\u001b[0;34m(\u001b[0m\u001b[0;36m1\u001b[0m \u001b[0;34m-\u001b[0m \u001b[0;36m2\u001b[0m\u001b[0;34m*\u001b[0m\u001b[0mxH2O\u001b[0m\u001b[0;34m)\u001b[0m\u001b[0;34m**\u001b[0m\u001b[0;36m2\u001b[0m\u001b[0;34m)\u001b[0m\u001b[0;34m*\u001b[0m\u001b[0;34m(\u001b[0m\u001b[0;36m7\u001b[0m \u001b[0;34m-\u001b[0m \u001b[0;36m8\u001b[0m\u001b[0;34m*\u001b[0m\u001b[0mxH2O\u001b[0m\u001b[0;34m)\u001b[0m\u001b[0;34m)\u001b[0m\u001b[0;34m)\u001b[0m\u001b[0;34m\u001b[0m\u001b[0;34m\u001b[0m\u001b[0m\n\u001b[0m\u001b[1;32m     47\u001b[0m \u001b[0;34m\u001b[0m\u001b[0m\n\u001b[1;32m     48\u001b[0m     \u001b[0myH2O\u001b[0m \u001b[0;34m=\u001b[0m \u001b[0mexp\u001b[0m\u001b[0;34m(\u001b[0m\u001b[0;34m(\u001b[0m\u001b[0;34m(\u001b[0m\u001b[0;36m1\u001b[0m \u001b[0;34m-\u001b[0m \u001b[0mxH2O\u001b[0m\u001b[0;34m**\u001b[0m\u001b[0;36m2\u001b[0m\u001b[0;34m)\u001b[0m\u001b[0;34m/\u001b[0m\u001b[0;34m(\u001b[0m\u001b[0mR\u001b[0m\u001b[0;34m*\u001b[0m\u001b[0mC2K\u001b[0m\u001b[0;34m(\u001b[0m\u001b[0mT\u001b[0m\u001b[0;34m)\u001b[0m\u001b[0;34m)\u001b[0m\u001b[0;34m)\u001b[0m\u001b[0;34m*\u001b[0m\u001b[0;34m(\u001b[0m\u001b[0mBa\u001b[0m \u001b[0;34m+\u001b[0m \u001b[0mBb\u001b[0m\u001b[0;34m*\u001b[0m\u001b[0;34m(\u001b[0m\u001b[0;36m1\u001b[0m \u001b[0;34m-\u001b[0m \u001b[0;36m4\u001b[0m\u001b[0;34m*\u001b[0m\u001b[0mxH2O\u001b[0m\u001b[0;34m)\u001b[0m \u001b[0;34m+\u001b[0m \u001b[0mBc\u001b[0m\u001b[0;34m*\u001b[0m\u001b[0;34m(\u001b[0m\u001b[0;36m1\u001b[0m \u001b[0;34m-\u001b[0m \u001b[0;36m2\u001b[0m\u001b[0;34m*\u001b[0m\u001b[0mxH2O\u001b[0m\u001b[0;34m)\u001b[0m\u001b[0;34m*\u001b[0m\u001b[0;34m(\u001b[0m\u001b[0;36m1\u001b[0m \u001b[0;34m-\u001b[0m \u001b[0;36m6\u001b[0m\u001b[0;34m*\u001b[0m\u001b[0mxH2O\u001b[0m\u001b[0;34m)\u001b[0m \u001b[0;34m+\u001b[0m \u001b[0mBd\u001b[0m\u001b[0;34m*\u001b[0m\u001b[0;34m(\u001b[0m\u001b[0;34m(\u001b[0m\u001b[0;36m1\u001b[0m \u001b[0;34m-\u001b[0m \u001b[0;36m2\u001b[0m\u001b[0;34m*\u001b[0m\u001b[0mxH2O\u001b[0m\u001b[0;34m)\u001b[0m\u001b[0;34m**\u001b[0m\u001b[0;36m2\u001b[0m\u001b[0;34m)\u001b[0m\u001b[0;34m*\u001b[0m\u001b[0;34m(\u001b[0m\u001b[0;36m1\u001b[0m \u001b[0;34m-\u001b[0m \u001b[0;36m8\u001b[0m\u001b[0;34m*\u001b[0m\u001b[0mxH2O\u001b[0m\u001b[0;34m)\u001b[0m\u001b[0;34m)\u001b[0m\u001b[0;34m)\u001b[0m\u001b[0;34m\u001b[0m\u001b[0;34m\u001b[0m\u001b[0m\n",
      "\u001b[0;31mKeyboardInterrupt\u001b[0m: "
     ]
    }
   ],
   "source": [
    "q = 1\n",
    "\n",
    "while solver.successful() and solver.t < t2[-1]:\n",
    "    \n",
    "    rate_vent[q] = pid_jacket(sol_vent[q-1, 0])\n",
    "    \n",
    "    regime = 0 # 0 for bubbly, 1 for churn-turbulent\n",
    "    \n",
    "    [TF[q], W_vap, jgi, Xm] = two_phase(sol_vent[q-1, 0], P_discharge, D_RD, Dv, Kd_RD, data_vent[q-1, :], regime)\n",
    "    \n",
    "    if TF[q] == 0:\n",
    "        n_RD[q] = W_vap\n",
    "    #     xe[q] = data_vent[q-1, 7]/(data_vent[q-1, 7] + data_vent[q-1, 6]) # mole fraction vapour entering the RD\n",
    "        xe[q] = 1\n",
    "    else:\n",
    "        [n_RD[q], xe[q]] = flow_twophase(sol_vent[q-1, 0], P_discharge, D_RD, Kd_RD, VR, jgi, Xm, data_vent[q-1, :], regime)\n",
    "    \n",
    "    if xe[q] > 1:\n",
    "        xe[q] = 1\n",
    "    elif xe[q] < 0:\n",
    "        xe[q] = 0\n",
    "        \n",
    "    solver2.set_f_params(Urx, Dv, rate_vent[q], n_RD[q], xe[q], list(data_vent[q-1, i] for i in [0, 1, 3, 4, 5, 6, 7, 8, 9, 10, 12, 14]))\n",
    "    solver2.integrate(t2[q])\n",
    "    sol_vent[q] = solver2.y\n",
    "    data_vent[q] = checkoutput(solver2.y, list(data_vent[q-1, i] for i in [0, 1, 3, 4, 5, 6, 7, 8, 9, 10, 12, 14]))\n",
    "    dsol_vent[q] = RD_VENT_RXN(t2[q], sol_vent[q, :], Urx, Dv, rate_vent[q], n_RD[q], xe[q], list(data_vent[q, i] for i in [0, 1, 3, 4, 5, 6, 7, 8, 9, 10, 12, 14]))\n",
    "    \n",
    "    if data_vent[q, 12] <= 0 or data_vent[q, 8] >= 100000 or data_vent[q, 8] <= P_discharge:\n",
    "        break\n",
    "\n",
    "    q += 1"
   ]
  },
  {
   "cell_type": "markdown",
   "metadata": {},
   "source": [
    "## Plot"
   ]
  },
  {
   "cell_type": "code",
   "execution_count": 35,
   "metadata": {},
   "outputs": [
    {
     "data": {
      "text/plain": [
       "<matplotlib.legend.Legend at 0x6fd9e0af60>"
      ]
     },
     "execution_count": 35,
     "metadata": {},
     "output_type": "execute_result"
    },
    {
     "data": {
      "image/png": "[encoded data removed]",
      "text/plain": [
       "<Figure size 432x288 with 1 Axes>"
      ]
     },
     "metadata": {
      "needs_background": "light"
     },
     "output_type": "display_data"
    },
    {
     "data": {
      "image/png": "[encoded data removed]",
      "text/plain": [
       "<Figure size 432x288 with 1 Axes>"
      ]
     },
     "metadata": {
      "needs_background": "light"
     },
     "output_type": "display_data"
    },
    {
     "data": {
      "image/png": "[encoded data removed]",
      "text/plain": [
       "<Figure size 432x288 with 1 Axes>"
      ]
     },
     "metadata": {
      "needs_background": "light"
     },
     "output_type": "display_data"
    },
    {
     "data": {
      "image/png": "[encoded data removed]",
      "text/plain": [
       "<Figure size 432x288 with 1 Axes>"
      ]
     },
     "metadata": {
      "needs_background": "light"
     },
     "output_type": "display_data"
    },
    {
     "data": {
      "image/png": "[encoded data removed]",
      "text/plain": [
       "<Figure size 432x288 with 1 Axes>"
      ]
     },
     "metadata": {
      "needs_background": "light"
     },
     "output_type": "display_data"
    },
    {
     "data": {
      "image/png": "[encoded data removed]",
      "text/plain": [
       "<Figure size 432x288 with 1 Axes>"
      ]
     },
     "metadata": {
      "needs_background": "light"
     },
     "output_type": "display_data"
    },
    {
     "data": {
      "image/png": "[encoded data removed]",
      "text/plain": [
       "<Figure size 432x288 with 1 Axes>"
      ]
     },
     "metadata": {
      "needs_background": "light"
     },
     "output_type": "display_data"
    },
    {
     "data": {
      "image/png": "[encoded data removed]",
      "text/plain": [
       "<Figure size 432x288 with 1 Axes>"
      ]
     },
     "metadata": {
      "needs_background": "light"
     },
     "output_type": "display_data"
    },
    {
     "data": {
      "image/png": "[encoded data removed]",
      "text/plain": [
       "<Figure size 432x288 with 1 Axes>"
      ]
     },
     "metadata": {
      "needs_background": "light"
     },
     "output_type": "display_data"
    },
    {
     "data": {
      "image/png": "[encoded data removed]",
      "text/plain": [
       "<Figure size 432x288 with 1 Axes>"
      ]
     },
     "metadata": {
      "needs_background": "light"
     },
     "output_type": "display_data"
    }
   ],
   "source": [
    "plt.figure(1)\n",
    "plt.plot(t2[0:q]/(3600), data_vent[0:q,8], label = 'P')\n",
    "plt.plot(t2[0:q]/(3600), data_vent[0:q,9], label = 'PH2O')\n",
    "plt.plot(t2[0:q]/(3600), data_vent[0:q,10], label = 'PH2O2')\n",
    "plt.plot(t2[0:q]/(3600), data_vent[0:q,11], label = 'PO2')\n",
    "# plt.plot([t2[0], t2[q-1]/3600], [P_BPR, P_BPR], label = 'BPR Set Point')\n",
    "# plt.axis([0, t[q-1]/3600, 100, 250])\n",
    "plt.xlabel('t')\n",
    "plt.legend()\n",
    "plt.title('Pressure')\n",
    "\n",
    "plt.figure(2)\n",
    "plt.plot(t2[0:q]/(3600), n_RD[0:q], label = 'vent flow')\n",
    "plt.xlabel('t')\n",
    "plt.title('Vent Flow')\n",
    "\n",
    "plt.figure(3)\n",
    "plt.plot(t2[0:q]/(3600), xe[0:q], label = 'vent quality')\n",
    "plt.xlabel('t')\n",
    "plt.title('Vent Quality')\n",
    "# plt.axis([t2[0]/3600, t2[q-1]/3600, 0, 1])\n",
    "\n",
    "plt.figure(4)\n",
    "plt.plot(t2[0:q]/(3600), rate_vent[0:q], label = 'heater power')\n",
    "plt.xlabel('t')\n",
    "plt.title('Heater Power')\n",
    "\n",
    "plt.figure(5)\n",
    "plt.plot(t2[0:q]/(3600), sol_vent[0:q,0], label = 'Reactor Temperature')\n",
    "plt.plot(t2[0:q]/(3600), sol_vent[0:q,1], label = 'Jacket Temperature')\n",
    "# plt.plot([t2[0], t2[q-1]/3600], [T_rxn, T_rxn], label = 'Set Point')\n",
    "plt.xlabel('t')\n",
    "plt.title('Temperature')\n",
    "plt.legend()\n",
    "\n",
    "plt.figure(6)\n",
    "plt.plot(t2[0:q]/(3600), (sol[0, 3] - sol_vent[0:q, 3])/sol[0, 3], label = 'XH2O2')\n",
    "# plt.axis([t2[0], t2[q-1]/3600, 0, 1])\n",
    "plt.title('Conversion')\n",
    "plt.xlabel('t')\n",
    "\n",
    "plt.figure(7)\n",
    "plt.plot(t2[0:q]/(3600), data_vent[0:q,0], label = 'xH2O')\n",
    "plt.plot(t2[0:q]/(3600), data_vent[0:q,1], label = 'xH2O2')\n",
    "plt.plot(t2[0:q]/(3600), data_vent[0:q,3], label = 'yH2O')\n",
    "plt.plot(t2[0:q]/(3600), data_vent[0:q,4], label = 'yH2O2')\n",
    "plt.plot(t2[0:q]/(3600), data_vent[0:q,5], label = 'yO2')\n",
    "# plt.axis([t2[0], t2[q-1]/3600, 0, 1])\n",
    "plt.xlabel('t')\n",
    "plt.title('Composition')\n",
    "plt.legend()\n",
    "\n",
    "plt.figure(8)\n",
    "plt.plot(t2[0:q]/(3600), data_vent[0:q,12], label = 'Liquid Volume')\n",
    "plt.plot(t2[0:q]/(3600), data_vent[0:q,13], label = 'Headspace Volume')\n",
    "# plt.axis([t2[0], t2[q-1]/3600, 0, VR])\n",
    "plt.title('Volume')\n",
    "plt.xlabel('t')\n",
    "plt.legend()\n",
    "\n",
    "plt.figure(9)\n",
    "plt.plot(t2[0:q]/(3600), TF[0:q], label = 'Flow Regime')\n",
    "plt.title('Flow Regime')\n",
    "plt.xlabel('t')\n",
    "\n",
    "plt.figure(11)\n",
    "plt.plot(t2[0:q]/(3600), sol_vent[0:q,2], label = 'nH2O')\n",
    "plt.plot(t2[0:q]/(3600), sol_vent[0:q,3], label = 'nH2O2')\n",
    "plt.plot(t2[0:q]/(3600), sol_vent[0:q,4], label = 'nO2')\n",
    "plt.xlabel('t')\n",
    "plt.title('Inventory')\n",
    "plt.legend()"
   ]
  },
  {
   "cell_type": "code",
   "execution_count": null,
   "metadata": {},
   "outputs": [],
   "source": [
    "gt = 100\n",
    "print(densityL(gt)) # Liquid density (kg/L)\n",
    "print(antoine(gt)) # Saturation pressures for volatile components (kPa)"
   ]
  },
  {
   "cell_type": "code",
   "execution_count": null,
   "metadata": {},
   "outputs": [],
   "source": [
    "#data_vent = xH2O, xH2O2, xO2, yH2O, yH2O2, yO2, nL, nG, P, PH2O, PH2O2, PO2, VL, VG, ZO2\n",
    "\n",
    "plt.figure(1)\n",
    "plt.plot(t[0:k]/(3600), data[0:k,8], label = 'P')\n",
    "plt.plot(t[0:k]/(3600), data[0:k,9], label = 'PH2O')\n",
    "plt.plot(t[0:k]/(3600), data[0:k,10], label = 'PH2O2')\n",
    "plt.plot(t[0:k]/(3600), data[0:k,11], label = 'PO2')\n",
    "plt.plot([0, t[k-1]/3600], [P_BPR, P_BPR], label = 'BPR Set Point')\n",
    "# plt.axis([0, t[k-1]/3600, 100, 250])\n",
    "plt.xlabel('t')\n",
    "plt.legend()\n",
    "\n",
    "plt.figure(2)\n",
    "plt.plot(t[0:k]/(3600), n_vent[0:k], label = 'vent flow')\n",
    "# plt.axis([0, t[k-1]/3600, 0, 0.02])\n",
    "plt.xlabel('t')\n",
    "\n",
    "plt.figure(3)\n",
    "plt.plot(t[0:k]/(3600), P_critical[0:k], label = 'Critical Pressure')\n",
    "plt.xlabel('t')\n",
    "\n",
    "plt.figure(4)\n",
    "plt.plot(t[0:k]/(3600), rate[0:k], label = 'heater power')\n",
    "plt.xlabel('t')\n",
    "\n",
    "plt.figure(5)\n",
    "plt.plot(t[0:k]/(3600), sol[0:k,0], label = 'Reactor Temperature')\n",
    "plt.plot(t[0:k]/(3600), sol[0:k,1], label = 'Jacket Temperature')\n",
    "plt.plot([0, t[k-1]/3600], [T_rxn, T_rxn], label = 'Set Point')\n",
    "plt.xlabel('t')\n",
    "plt.legend()\n",
    "\n",
    "plt.figure(6)\n",
    "plt.plot(t[0:k]/(3600), (sol[0, 3] - sol[0:k, 3])/sol[0, 3], label = 'XH2O2')\n",
    "plt.axis([0, t[k-1]/3600, 0, 1])\n",
    "plt.xlabel('t')\n",
    "\n",
    "plt.figure(7)\n",
    "plt.plot(t[0:k]/(3600), data[0:k,0], label = 'xH2O')\n",
    "plt.plot(t[0:k]/(3600), data[0:k,1], label = 'xH2O2')\n",
    "plt.plot(t[0:k]/(3600), data[0:k,3], label = 'yH2O')\n",
    "plt.plot(t[0:k]/(3600), data[0:k,4], label = 'yH2O2')\n",
    "plt.plot(t[0:k]/(3600), data[0:k,5], label = 'yO2')\n",
    "plt.axis([0, t[k-1]/3600, 0, 1])\n",
    "plt.xlabel('t')\n",
    "plt.legend()\n",
    "\n",
    "plt.figure(8)\n",
    "plt.plot(t[0:k]/(3600), data[0:k,12], label = 'Liquid Volume')\n",
    "plt.plot(t[0:k]/(3600), data[0:k,13], label = 'Headspace Volume')\n",
    "plt.axis([0, t[k-1]/3600, 0, VR])\n",
    "plt.xlabel('t')\n",
    "plt.legend()\n",
    "\n",
    "plt.figure(9)\n",
    "# plt.plot(t[0:k]/(3600), dsol[0:k,2], label = 'dnH2Odt')\n",
    "plt.plot(t[0:k]/(3600), dsol[0:k,3], label = 'dnH2O2dt')\n",
    "# plt.plot(t[0:k]/(3600), dsol[0:k,4], label = 'dnO2dt')\n",
    "# plt.axis([0, t[k-1]/3600, -0.2, 0])\n",
    "plt.xlabel('t')\n",
    "plt.legend()\n",
    "\n",
    "plt.figure(10)\n",
    "plt.plot(t[0:k]/(3600), sol[0:k,2], label = 'nH2O')\n",
    "plt.plot(t[0:k]/(3600), sol[0:k,3], label = 'nH2O2')\n",
    "plt.plot(t[0:k]/(3600), sol[0:k,4], label = 'nO2')\n",
    "plt.xlabel('t')\n",
    "plt.legend()"
   ]
  },
  {
   "cell_type": "markdown",
   "metadata": {},
   "source": [
    "## Optional csv Data Export"
   ]
  },
  {
   "cell_type": "code",
   "execution_count": null,
   "metadata": {},
   "outputs": [],
   "source": [
    "# import csv\n",
    "# csvfile = \"dn.csv\"\n",
    "\n",
    "# #Assuming res is a flat list\n",
    "# with open(csvfile, \"w\") as output:\n",
    "#     writer = csv.writer(output, lineterminator='\\n')\n",
    "#     for val in dsol[0:k,3]:\n",
    "#         writer.writerow([val])  \n",
    "\n",
    "# csvfile2= \"t.csv\"\n",
    "\n",
    "# #Assuming res is a flat list\n",
    "# with open(csvfile2, \"w\") as output:\n",
    "#     writer = csv.writer(output, lineterminator='\\n')\n",
    "#     for val in t:\n",
    "#         writer.writerow([val]) "
   ]
  }
 ],
 "metadata": {
  "kernelspec": {
   "display_name": "Python 3",
   "language": "python",
   "name": "python3"
  },
  "language_info": {
   "codemirror_mode": {
    "name": "ipython",
    "version": 3
   },
   "file_extension": ".py",
   "mimetype": "text/x-python",
   "name": "python",
   "nbconvert_exporter": "python",
   "pygments_lexer": "ipython3",
   "version": "3.7.1"
  }
 },
 "nbformat": 4,
 "nbformat_minor": 2
}
